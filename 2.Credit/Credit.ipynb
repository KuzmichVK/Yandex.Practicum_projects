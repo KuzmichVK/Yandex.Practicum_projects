{
 "cells": [
  {
   "cell_type": "code",
   "execution_count": 14,
   "metadata": {},
   "outputs": [],
   "source": [
    "#Задание 1. Проведите исследование"
   ]
  },
  {
   "cell_type": "code",
   "execution_count": 15,
   "metadata": {},
   "outputs": [],
   "source": [
    "#Шаг 1. Откройте файл с данными /datasets/data.csv и изучите общую информацию.\n",
    "\n",
    "import pandas as pd\n",
    "df =pd.read_csv('data.csv')\n"
   ]
  },
  {
   "cell_type": "code",
   "execution_count": 16,
   "metadata": {
    "scrolled": false
   },
   "outputs": [
    {
     "name": "stdout",
     "output_type": "stream",
     "text": [
      "<class 'pandas.core.frame.DataFrame'>\n",
      "RangeIndex: 21525 entries, 0 to 21524\n",
      "Data columns (total 12 columns):\n",
      "children            21525 non-null int64\n",
      "days_employed       19351 non-null float64\n",
      "dob_years           21525 non-null int64\n",
      "education           21525 non-null object\n",
      "education_id        21525 non-null int64\n",
      "family_status       21525 non-null object\n",
      "family_status_id    21525 non-null int64\n",
      "gender              21525 non-null object\n",
      "income_type         21525 non-null object\n",
      "debt                21525 non-null int64\n",
      "total_income        19351 non-null float64\n",
      "purpose             21525 non-null object\n",
      "dtypes: float64(2), int64(5), object(5)\n",
      "memory usage: 2.0+ MB\n",
      "None\n",
      "Пропущенные значения присутствуют в графах с трудовым стажем и доход в месяц\n"
     ]
    }
   ],
   "source": [
    "#Шаг 2. Предобработайте данные:\n",
    "#определите и заполните пропущенные значения;\n",
    "\n",
    "print(df.info())\n",
    "print('Пропущенные значения присутствуют в графах с трудовым стажем и доход в месяц')"
   ]
  },
  {
   "cell_type": "code",
   "execution_count": 17,
   "metadata": {},
   "outputs": [
    {
     "name": "stdout",
     "output_type": "stream",
     "text": [
      "<class 'pandas.core.frame.DataFrame'>\n",
      "RangeIndex: 21525 entries, 0 to 21524\n",
      "Data columns (total 12 columns):\n",
      "children            21525 non-null int64\n",
      "days_employed       21525 non-null float64\n",
      "dob_years           21525 non-null int64\n",
      "education           21525 non-null object\n",
      "education_id        21525 non-null int64\n",
      "family_status       21525 non-null object\n",
      "family_status_id    21525 non-null int64\n",
      "gender              21525 non-null object\n",
      "income_type         21525 non-null object\n",
      "debt                21525 non-null int64\n",
      "total_income        21525 non-null float64\n",
      "purpose             21525 non-null object\n",
      "dtypes: float64(2), int64(5), object(5)\n",
      "memory usage: 2.0+ MB\n",
      "None\n",
      "Пропущенных значения заменил на 0, так как люди либо только устроились на работу, \n",
      "либо взяли кредит под залог имущества, или же не успели принести справку в любом случае у них не указан стаж и доход\n"
     ]
    }
   ],
   "source": [
    "#сделаю отдельный дата для каждого типа занятости\n",
    "#чтобы не ошибиться посмотрим какие типы занятости есть\n",
    "\n",
    "#промежуточные выводы закоментирую, чтобы не награмождать вывод\n",
    "\n",
    "#print(df['income_type'].unique())\n",
    "\n",
    "#['сотрудник' 'пенсионер' 'компаньон' 'госслужащий' 'безработный'\n",
    "#'предприниматель' 'студент' 'в декрете']\n",
    "\n",
    "df_sotrudnik = df[(df['income_type'] == 'сотрудник')]\n",
    "df_penciober = df[(df['income_type'] == 'пенсионер')]\n",
    "df_companion = df[(df['income_type'] == 'компаньон')]\n",
    "df_gosslujaci = df[(df['income_type'] == 'госслужащий')]\n",
    "df_unemployed = df[(df['income_type'] == 'безработный')]\n",
    "df_bisnesmen = df[(df['income_type'] == 'предприниматель')]\n",
    "df_student = df[(df['income_type'] == 'студент')]\n",
    "df_dikret = df[(df['income_type'] == 'в декрете')]\n",
    "\n",
    "\n",
    "#print(df_sotrudnik.info())\n",
    "#print(df_penciober.info())\n",
    "#print(df_companion.info())\n",
    "#print(df_gosslujaci.info())\n",
    "#print(df_unemployed.info())\n",
    "#print(df_bisnesmen.info())\n",
    "#print(df_student.info())\n",
    "#print(df_dikret.info())\n",
    "\n",
    "#среди сотрудников 1105 из 11119 человек без стажа и дохода, среди пенсионеров 413 из 3856\n",
    "#среди компаньонов 508 из 5085, среди госслужащих 147 из 1459, из предпринимателей 1 из 2-х\n",
    "\n",
    "#будем полагать что высшеуказанные пропуски появились по причине того что люди либо только устроились на работу, либо \n",
    "#взяли кредит под залог имущества, или же не успели принести справку в любом случае у них нет стажа и дохода, \n",
    "#поэтому заполним 0\n",
    "\n",
    "df = df.fillna(0)\n",
    "#заполняю целиком таблицу, так как пропущенные значения только в вышеописанных столбцах\n",
    "print(df.info())\n",
    "print('Пропущенных значения заменил на 0, так как люди либо только устроились на работу, ')\n",
    "print('либо взяли кредит под залог имущества, или же не успели принести справку в любом случае у них не указан стаж и доход')"
   ]
  },
  {
   "cell_type": "code",
   "execution_count": 18,
   "metadata": {},
   "outputs": [
    {
     "name": "stdout",
     "output_type": "stream",
     "text": [
      "<class 'pandas.core.frame.DataFrame'>\n",
      "RangeIndex: 21525 entries, 0 to 21524\n",
      "Data columns (total 12 columns):\n",
      "children            21525 non-null int64\n",
      "days_employed       21525 non-null int32\n",
      "dob_years           21525 non-null int64\n",
      "education           21525 non-null object\n",
      "education_id        21525 non-null int64\n",
      "family_status       21525 non-null object\n",
      "family_status_id    21525 non-null int64\n",
      "gender              21525 non-null object\n",
      "income_type         21525 non-null object\n",
      "debt                21525 non-null int64\n",
      "total_income        21525 non-null int32\n",
      "purpose             21525 non-null object\n",
      "dtypes: int32(2), int64(5), object(5)\n",
      "memory usage: 1.8+ MB\n",
      "None\n"
     ]
    }
   ],
   "source": [
    "#замените вещественный тип данных на целочисленный;\n",
    "\n",
    "#переведем тип данных из float в int в следующих столбцах: 'days_employed' и 'total_income'\n",
    "\n",
    "df['days_employed'] = df['days_employed'].astype('int')\n",
    "df['total_income'] = df['total_income'].astype('int')\n",
    "print(df.info())\n",
    "\n",
    "#print(df.head())\n",
    "\n",
    "#рассмотрим графу 'days_employed'(трудовой стаж), в ней есть отрицательные и положительные значения, \n",
    "#стаж у нас не бывает отрицательным\n",
    "#df_plus = df[df['days_employed'] > 0]\n",
    "#df_minus = df[df['days_employed'] < 0]\n",
    "#просмотрим минимальные и максимальные значения в каждом случае\n",
    "#print(df_plus['days_employed'].min(), df_plus['days_employed'].max())\n",
    "#print(df_minus['days_employed'].min(), df_minus['days_employed'].max())\n",
    "#328728 401755\n",
    "#-18388 -24\n",
    "#трудовой стаж у нас исчисляется в днях, в связи с этим ясно что в положительных данных какая-то ошибка, \n",
    "#тк люди столько не живут\n",
    "#посчитаем колличество данных\n",
    "#print(df_plus['days_employed'].count())\n",
    "#print(df_minus['days_employed'].count())\n",
    "#положительных данных намного меньше, поэтому ими мы можем пожертвовать, чтобы можно было использовать более понятную информацию\n",
    "df = df[df['days_employed'] <= 0]\n",
    "df['days_employed'] = df['days_employed'] * -1\n",
    "#print(df.head())\n",
    "#print(df['days_employed'].min(), df['days_employed'].max())\n",
    "#теперь в графе со стажем только положительные и адекватные данные\n"
   ]
  },
  {
   "cell_type": "code",
   "execution_count": 19,
   "metadata": {},
   "outputs": [
    {
     "name": "stdout",
     "output_type": "stream",
     "text": [
      "Requirement already satisfied: pymystem3 in c:\\users\\homeuser\\anaconda3\\lib\\site-packages (0.2.0)\n",
      "Requirement already satisfied: requests in c:\\users\\homeuser\\anaconda3\\lib\\site-packages (from pymystem3) (2.22.0)\n",
      "Requirement already satisfied: idna<2.9,>=2.5 in c:\\users\\homeuser\\anaconda3\\lib\\site-packages (from requests->pymystem3) (2.8)\n",
      "Requirement already satisfied: urllib3!=1.25.0,!=1.25.1,<1.26,>=1.21.1 in c:\\users\\homeuser\\anaconda3\\lib\\site-packages (from requests->pymystem3) (1.24.2)\n",
      "Requirement already satisfied: certifi>=2017.4.17 in c:\\users\\homeuser\\anaconda3\\lib\\site-packages (from requests->pymystem3) (2019.6.16)\n",
      "Requirement already satisfied: chardet<3.1.0,>=3.0.2 in c:\\users\\homeuser\\anaconda3\\lib\\site-packages (from requests->pymystem3) (3.0.4)\n"
     ]
    }
   ],
   "source": [
    "!pip install pymystem3\n",
    "from nltk.stem import SnowballStemmer \n",
    "russian_stemmer = SnowballStemmer('russian')\n",
    "\n",
    "from pymystem3 import Mystem\n",
    "m = Mystem()"
   ]
  },
  {
   "cell_type": "code",
   "execution_count": 20,
   "metadata": {},
   "outputs": [
    {
     "name": "stdout",
     "output_type": "stream",
     "text": [
      "Все данные типа object приведены к нижнему регистру для простоты обработки данных и упрощения дальнейшего поиска дубликатов\n"
     ]
    }
   ],
   "source": [
    "#удалите дубликаты;\n",
    "#определим где и какие дубликаты есть\n",
    "\n",
    "#приведем все данные типа object к нижнему регистру для дальнейшей простоты обработки данных\n",
    "\n",
    "df['education'] = df['education'].str.lower()\n",
    "df['family_status'] = df['family_status'].str.lower()\n",
    "df['gender'] = df['gender'].str.lower()\n",
    "df['income_type'] = df['income_type'].str.lower()\n",
    "df['purpose'] = df['purpose'].str.lower()\n",
    "\n",
    "print('Все данные типа object приведены к нижнему регистру для простоты обработки данных и упрощения дальнейшего поиска дубликатов')"
   ]
  },
  {
   "cell_type": "code",
   "execution_count": 21,
   "metadata": {},
   "outputs": [
    {
     "name": "stdout",
     "output_type": "stream",
     "text": [
      "Уникальные значения в графе education:\n",
      "['высшее' 'среднее' 'неоконченное высшее' 'начальное' 'ученая степень']\n",
      "\n",
      "Уникальные значения в графе family_status:\n",
      "['женат / замужем' 'гражданский брак' 'в разводе' 'не женат / не замужем'\n",
      " 'вдовец / вдова']\n",
      "\n",
      "Уникальные значения в графе gender:\n",
      "['f' 'm' 'xna']\n",
      "\n",
      "Уникальные значения в графе income_type:\n",
      "['сотрудник' 'компаньон' 'пенсионер' 'госслужащий' 'предприниматель'\n",
      " 'студент' 'в декрете']\n",
      "\n",
      "Уникальные значения в графе purpose:\n",
      "['покупка жилья' 'приобретение автомобиля' 'дополнительное образование'\n",
      " 'операции с жильем' 'образование' 'на проведение свадьбы'\n",
      " 'покупка жилья для семьи' 'покупка недвижимости'\n",
      " 'покупка коммерческой недвижимости' 'сыграть свадьбу'\n",
      " 'покупка жилой недвижимости' 'строительство собственной недвижимости'\n",
      " 'недвижимость' 'строительство недвижимости'\n",
      " 'на покупку своего автомобиля' 'на покупку подержанного автомобиля'\n",
      " 'строительство жилой недвижимости' 'жилье'\n",
      " 'операции со своей недвижимостью' 'автомобили' 'заняться образованием'\n",
      " 'сделка с подержанным автомобилем' 'получение образования' 'автомобиль'\n",
      " 'свадьба' 'получение дополнительного образования' 'покупка своего жилья'\n",
      " 'операции с недвижимостью' 'получение высшего образования'\n",
      " 'операции с коммерческой недвижимостью' 'свой автомобиль'\n",
      " 'сделка с автомобилем' 'профильное образование' 'высшее образование'\n",
      " 'на покупку автомобиля' 'покупка жилья для сдачи' 'ремонт жилью'\n",
      " 'заняться высшим образованием']\n",
      "\n",
      "оказывается в колонке 'gender' есть значения 'xna' (не изветсен пол)\n",
      "в колонке 'purpose' много взаимозаменяемых значений, например 'приобретение автомобиля' и 'автомобиль'\n"
     ]
    }
   ],
   "source": [
    "print('Уникальные значения в графе education:')\n",
    "print(df['education'].unique())\n",
    "print()\n",
    "print('Уникальные значения в графе family_status:')\n",
    "print(df['family_status'].unique())\n",
    "print()\n",
    "print('Уникальные значения в графе gender:')\n",
    "print(df['gender'].unique())\n",
    "print()\n",
    "print('Уникальные значения в графе income_type:')\n",
    "print(df['income_type'].unique())\n",
    "print()\n",
    "print('Уникальные значения в графе purpose:')\n",
    "print(df['purpose'].unique())\n",
    "print()\n",
    "\n",
    "print(\"\"\"оказывается в колонке 'gender' есть значения 'xna' (не изветсен пол)\n",
    "в колонке 'purpose' много взаимозаменяемых значений, например 'приобретение автомобиля' и 'автомобиль'\"\"\")"
   ]
  },
  {
   "cell_type": "code",
   "execution_count": 22,
   "metadata": {},
   "outputs": [],
   "source": [
    "#ЛЕММАТИЗАЦИЯ!!!!!\n",
    "\n",
    "#для добавления создания лемм\n",
    "def do_lemma(row):\n",
    "    lemma = m.lemmatize(row)\n",
    "    return lemma"
   ]
  },
  {
   "cell_type": "code",
   "execution_count": 23,
   "metadata": {},
   "outputs": [],
   "source": [
    "#создадим дополнительный столбец с лемматизированными целями\n",
    "df['purpose_lemma'] = df['purpose'].apply(do_lemma)"
   ]
  },
  {
   "cell_type": "code",
   "execution_count": 24,
   "metadata": {},
   "outputs": [],
   "source": [
    "#создадим строку из уникальных целей\n",
    "\n",
    "all_lemmas_list = df['purpose_lemma'].values\n",
    "flat_lemmas_list = []\n",
    "for sublist in all_lemmas_list:\n",
    "   for item in sublist:\n",
    "       flat_lemmas_list.append(item)"
   ]
  },
  {
   "cell_type": "code",
   "execution_count": 25,
   "metadata": {},
   "outputs": [
    {
     "name": "stdout",
     "output_type": "stream",
     "text": [
      "[list(['покупка', ' ', 'жилье', '\\n'])\n",
      " list(['приобретение', ' ', 'автомобиль', '\\n'])\n",
      " list(['покупка', ' ', 'жилье', '\\n']) ... list(['недвижимость', '\\n'])\n",
      " list(['на', ' ', 'покупка', ' ', 'свой', ' ', 'автомобиль', '\\n'])\n",
      " list(['на', ' ', 'покупка', ' ', 'автомобиль', '\\n'])]\n",
      "Посчитаем самые популярные леммы в графе purpose:\n",
      "Counter({' ': 28298, '\\n': 18080, 'недвижимость': 5357, 'покупка': 4979, 'жилье': 3781, 'автомобиль': 3600, 'образование': 3368, 'с': 2455, 'операция': 2197, 'свадьба': 1974, 'свой': 1912, 'на': 1868, 'строительство': 1571, 'высокий': 1161, 'коммерческий': 1103, 'получение': 1094, 'для': 1085, 'жилой': 1036, 'сделка': 791, 'заниматься': 773, 'дополнительный': 747, 'проведение': 651, 'сыграть': 647, 'сдача': 551, 'семья': 534, 'собственный': 533, 'со': 533, 'ремонт': 521, 'подержанный': 410, 'подержать': 395, 'приобретение': 385, 'профильный': 366})\n"
     ]
    }
   ],
   "source": [
    "print(all_lemmas_list)\n",
    "from collections import Counter\n",
    "#посчитаем самые популярные слова, чтобы обобщить цели кредитов, это: недвижимость, образование, автомобиль, свадьба\n",
    "print('Посчитаем самые популярные леммы в графе purpose:')\n",
    "print(Counter(flat_lemmas_list))"
   ]
  },
  {
   "cell_type": "code",
   "execution_count": 26,
   "metadata": {},
   "outputs": [
    {
     "name": "stdout",
     "output_type": "stream",
     "text": [
      "Cоздадим словарь с категориями в графе purpose, вдальнейшем его можно будет пополнять:\n",
      "['жилье', 'недвижимость', 'образование', 'автомобиль', 'свадьба']\n"
     ]
    }
   ],
   "source": [
    "#функция для создания словаря\n",
    "def dictionary(world, data):\n",
    "    for row in data:\n",
    "        if world == row:\n",
    "            return row\n",
    "\n",
    "print('Cоздадим словарь с категориями в графе purpose, вдальнейшем его можно будет пополнять:')\n",
    "#создадим словарь с категориями, вдальнейшем его можно будет пополнять\n",
    "\n",
    "dict = []\n",
    "#вручную добавим выбранные мною слова\n",
    "dict.append(dictionary('жилье', flat_lemmas_list))\n",
    "dict.append(dictionary('недвижимость', flat_lemmas_list))\n",
    "dict.append(dictionary('образование', flat_lemmas_list))\n",
    "dict.append(dictionary('автомобиль', flat_lemmas_list))\n",
    "dict.append(dictionary('свадьба', flat_lemmas_list))\n",
    "\n",
    "\n",
    "print(dict)"
   ]
  },
  {
   "cell_type": "code",
   "execution_count": 27,
   "metadata": {},
   "outputs": [
    {
     "name": "stdout",
     "output_type": "stream",
     "text": [
      "Cоздаем столбец с категориями целей получения кредита\n",
      "\n",
      "                                   purpose category_purpose\n",
      "0                            покупка жилья            жилье\n",
      "1                  приобретение автомобиля       автомобиль\n",
      "2                            покупка жилья            жилье\n",
      "3               дополнительное образование      образование\n",
      "5                            покупка жилья            жилье\n",
      "6                        операции с жильем            жилье\n",
      "7                              образование      образование\n",
      "8                    на проведение свадьбы          свадьба\n",
      "9                  покупка жилья для семьи            жилье\n",
      "10                    покупка недвижимости     недвижимость\n",
      "11       покупка коммерческой недвижимости     недвижимость\n",
      "12                         сыграть свадьбу          свадьба\n",
      "13                 приобретение автомобиля       автомобиль\n",
      "14              покупка жилой недвижимости     недвижимость\n",
      "15  строительство собственной недвижимости     недвижимость\n"
     ]
    }
   ],
   "source": [
    "#категоризируйте данные.\n",
    "#print(df.head())\n",
    "#print(df.info())\n",
    "#создаем столбец с категориями\n",
    "#функция которая выдает категории\n",
    "def category(data):\n",
    "    if dict[0] in data:\n",
    "        return dict[0]\n",
    "    elif dict[1] in data:\n",
    "        return dict[1]\n",
    "    elif dict[2] in data:\n",
    "        return dict[2]\n",
    "    elif dict[3] in data:\n",
    "        return dict[3]\n",
    "    else:\n",
    "        return dict[4]\n",
    "    \n",
    "print('Cоздаем столбец с категориями целей получения кредита')\n",
    "print()\n",
    "df['category_purpose'] = df['purpose_lemma'].apply(category)\n",
    "print(df.loc[:, ['purpose', 'category_purpose']] .head(15))\n",
    "\n"
   ]
  },
  {
   "cell_type": "code",
   "execution_count": 28,
   "metadata": {},
   "outputs": [],
   "source": [
    "#Задание 2. Опишите свои выводы"
   ]
  },
  {
   "cell_type": "code",
   "execution_count": 29,
   "metadata": {},
   "outputs": [
    {
     "name": "stdout",
     "output_type": "stream",
     "text": [
      "Процент среди людей с детьми, которые имели задолжности: 9.4%\n",
      "Процент среди бездетных, которые имели задолжности: 8.1%\n",
      "Казалось бы что люди, которые заводят детей более ответственно относятся к выплате долгов, но на деле оказалось наоборот\n"
     ]
    }
   ],
   "source": [
    "#Шаг 1. Ответьте на вопросы:\n",
    "#Есть ли зависимость между наличием детей и возвратом кредита в срок?\n",
    "df_kindred = df[df['children'] != 0]\n",
    "df_freekind = df[df['children'] == 0]\n",
    "#print(df_kindred.info())\n",
    "kindred_debit = df_kindred['debt'].sum() / len(df_kindred)\n",
    "freekind_debit = df_freekind['debt'].sum() / len(df_freekind)\n",
    "print('Процент среди людей с детьми, которые имели задолжности: {:.1%}'.format(kindred_debit))\n",
    "print('Процент среди бездетных, которые имели задолжности: {:.1%}'.format(freekind_debit))\n",
    "print('Казалось бы что люди, которые заводят детей более ответственно относятся к выплате долгов, но на деле оказалось наоборот')\n"
   ]
  },
  {
   "cell_type": "code",
   "execution_count": 30,
   "metadata": {},
   "outputs": [
    {
     "name": "stdout",
     "output_type": "stream",
     "text": [
      "Типы семейного положения и их id соответственно:\n",
      "['женат / замужем' 'гражданский брак' 'в разводе' 'не женат / не замужем'\n",
      " 'вдовец / вдова']\n",
      "[0 1 3 4 2]\n",
      "\n",
      "debt                   ratio %    sum\n",
      "family_status                        \n",
      "в разводе                    8    997\n",
      "вдовец / вдова               6    476\n",
      "гражданский брак            11   3600\n",
      "женат / замужем              8  10507\n",
      "не женат / не замужем       11   2500\n",
      "\n",
      "Из таблицы видно что те люди кто никогда не был в официальном браке более склонны к задолжностям:\n",
      "Гражданский брак, не женат / не замужем - 10% с задолжностями\n",
      "В разводе, вдовец / вдова, женат / замужем - 7-8% с задолжностями\n"
     ]
    }
   ],
   "source": [
    "#Есть ли зависимость между семейным положением и возвратом кредита в срок?\n",
    "\n",
    "print('Типы семейного положения и их id соответственно:')\n",
    "print(df['family_status'].unique())\n",
    "print(df['family_status_id'].unique())\n",
    "print()\n",
    "#['женат / замужем' 'гражданский брак' 'вдовец / вдова' 'в разводе'\n",
    "# 'не женат / не замужем']\n",
    "#[0 1 2 3 4]\n",
    "\n",
    "#создаем таблицу data_pivot_family_status где смотрим дожников по категории семейного положения\n",
    "data_pivot_family_status = df.pivot_table(index='family_status', columns='debt', values='family_status_id', aggfunc='count')\n",
    "#считаем процент должников\n",
    "data_pivot_family_status['ratio %'] = (data_pivot_family_status[1] / data_pivot_family_status[0]) * 100\n",
    "data_pivot_family_status['ratio %'] = data_pivot_family_status['ratio %'].astype('int')\n",
    "#cчитаем сумму клиентов каждой категории\n",
    "data_pivot_family_status['sum'] = data_pivot_family_status[1] + data_pivot_family_status[0]\n",
    "\n",
    "\n",
    "print(data_pivot_family_status.loc[:, ['ratio %', 'sum']])\n",
    "print()\n",
    "print('Из таблицы видно что те люди кто никогда не был в официальном браке более склонны к задолжностям:')\n",
    "print('Гражданский брак, не женат / не замужем - 10% с задолжностями')\n",
    "print('В разводе, вдовец / вдова, женат / замужем - 7-8% с задолжностями')\n"
   ]
  },
  {
   "cell_type": "code",
   "execution_count": 31,
   "metadata": {},
   "outputs": [
    {
     "name": "stdout",
     "output_type": "stream",
     "text": [
      "Разобьем доход на уровни: 0, 0-20, 20-50, 50-100, 100-250, 250-500, 500+\n",
      "\n",
      "debt             ratio %    sum\n",
      "category_income                \n",
      "0                      8   2174\n",
      "100-250                9  10199\n",
      "20-50                  7    192\n",
      "250-500                7   2328\n",
      "50-100                10   2984\n",
      "500+                   7    203\n",
      "\n",
      "Из таблицы видно что те люди кто имеет заработок выше среднего более склонны к задолжностям:\n",
      "50-250 тысяч рублей в месяц - 9-10% с задолжностями\n",
      "До 50 и свыше 250 тысяч рублей в месяц - 7% с задолжностями\n"
     ]
    }
   ],
   "source": [
    "#Есть ли зависимость между уровнем дохода и возвратом кредита в срок?\n",
    "print('Разобьем доход на уровни: 0, 0-20, 20-50, 50-100, 100-250, 250-500, 500+')\n",
    "\n",
    "def income(data):\n",
    "    if data == 0:\n",
    "        return '0'\n",
    "    elif data <= 20000:\n",
    "        return '0-20'\n",
    "    elif data <= 50000:\n",
    "        return '20-50'\n",
    "    elif data <= 100000:\n",
    "        return '50-100'\n",
    "    elif data <= 250000:\n",
    "        return '100-250'\n",
    "    elif data <= 500000:\n",
    "        return '250-500'\n",
    "    else:\n",
    "        return '500+'\n",
    "#\n",
    "\n",
    "df['category_income'] = df['total_income'].apply(income)\n",
    "\n",
    "print()\n",
    "\n",
    "#print(df.loc[:, ['total_income', 'category_income']] .head(15))\n",
    "#\n",
    "#создаем таблицу data_pivot_income где смотрим дожников по категории заработка\n",
    "data_pivot_income = df.pivot_table(index='category_income', columns='debt', values='total_income', aggfunc='count')\n",
    "#считаем процент должников\n",
    "data_pivot_income['ratio %'] = (data_pivot_income[1] / data_pivot_income[0]) * 100\n",
    "data_pivot_income['ratio %'] = data_pivot_income['ratio %'].astype('int')\n",
    "#cчитаем сумму клиентов каждой категории\n",
    "data_pivot_income['sum'] = data_pivot_income[1] + data_pivot_income[0]\n",
    "\n",
    "print(data_pivot_income.loc[:, ['ratio %', 'sum']])\n",
    "print()\n",
    "print('Из таблицы видно что те люди кто имеет заработок выше среднего более склонны к задолжностям:')\n",
    "print('50-250 тысяч рублей в месяц - 9-10% с задолжностями')\n",
    "print('До 50 и свыше 250 тысяч рублей в месяц - 7% с задолжностями')"
   ]
  },
  {
   "cell_type": "code",
   "execution_count": 32,
   "metadata": {},
   "outputs": [
    {
     "name": "stdout",
     "output_type": "stream",
     "text": [
      "debt              ratio %   sum\n",
      "category_purpose               \n",
      "автомобиль             11  3600\n",
      "жилье                   7  3781\n",
      "недвижимость            8  5357\n",
      "образование            10  3368\n",
      "свадьба                 9  1974\n",
      "\n",
      "Из таблицы видно что те люди кто берет кредит на более мелкие цели более склонны к задолжностям:\n",
      "Автомобиль, образование, свадьба - 9-11% с задолжностями\n",
      "Жилье, недвижимость - 7-8% с задолжностями\n"
     ]
    }
   ],
   "source": [
    "#Как разные цели кредита влияют на его возврат в срок?\n",
    "\n",
    "#создаем таблицу data_pivot_income где смотрим дожников по цели кредита\n",
    "data_pivot_purpose = df.pivot_table(index='category_purpose', columns='debt', values='purpose', aggfunc='count')\n",
    "#считаем процент должников\n",
    "data_pivot_purpose['ratio %'] = (data_pivot_purpose[1] / data_pivot_purpose[0]) * 100\n",
    "data_pivot_purpose['ratio %'] = data_pivot_purpose['ratio %'].astype('int')\n",
    "#cчитаем сумму клиентов каждой категории\n",
    "data_pivot_purpose['sum'] = data_pivot_purpose[1] + data_pivot_purpose[0]\n",
    "\n",
    "print(data_pivot_purpose.loc[:, ['ratio %', 'sum']])\n",
    "print()\n",
    "print('Из таблицы видно что те люди кто берет кредит на более мелкие цели более склонны к задолжностям:')\n",
    "print('Автомобиль, образование, свадьба - 9-11% с задолжностями')\n",
    "print('Жилье, недвижимость - 7-8% с задолжностями')\n",
    "\n",
    "#PS: я бы провел аналогичное исследование по сумме кредита, если бы били такие данные, тк на мой взгляд чем больше сумма кредита\n",
    "#тем меньше будет процент людей с задолжностями"
   ]
  },
  {
   "cell_type": "code",
   "execution_count": 33,
   "metadata": {},
   "outputs": [
    {
     "name": "stdout",
     "output_type": "stream",
     "text": [
      "Из выше указанных исследований видно что более надежными оказались люди, которые были или состоят в браке, имеют ЗП\n",
      "до 50 и свыше 250 тысяч рублей в месяц и с более масштабной целью кредита, например жилье или недвижимость\n"
     ]
    }
   ],
   "source": [
    "#Шаг 2. Напишите общий вывод.\n",
    "print('Из выше указанных исследований видно что более надежными оказались люди, которые были или состоят в браке, имеют ЗП')\n",
    "print('до 50 и свыше 250 тысяч рублей в месяц и с более масштабной целью кредита, например жилье или недвижимость')"
   ]
  }
 ],
 "metadata": {
  "kernelspec": {
   "display_name": "Python 3",
   "language": "python",
   "name": "python3"
  },
  "language_info": {
   "codemirror_mode": {
    "name": "ipython",
    "version": 3
   },
   "file_extension": ".py",
   "mimetype": "text/x-python",
   "name": "python",
   "nbconvert_exporter": "python",
   "pygments_lexer": "ipython3",
   "version": "3.7.3"
  }
 },
 "nbformat": 4,
 "nbformat_minor": 2
}
