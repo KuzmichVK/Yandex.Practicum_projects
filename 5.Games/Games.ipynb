{
 "cells": [
  {
   "cell_type": "code",
   "execution_count": 1,
   "metadata": {},
   "outputs": [],
   "source": [
    "#Шаг 1. Откройте файл с данными и изучите общую информацию\n",
    "#Путь к файлу:\n",
    "#/datasets/games.csv /datasets/rating.csv — данные о рейтинге ESRB\n",
    "\n",
    "import pandas as pd\n",
    "games = pd.read_csv('games.csv')\n",
    "rating = pd.read_csv('rating.csv')"
   ]
  },
  {
   "cell_type": "code",
   "execution_count": 2,
   "metadata": {},
   "outputs": [],
   "source": [
    "#games.to_csv('games.csv', index=False)\n",
    "#rating.to_csv('rating.csv', index=False)"
   ]
  },
  {
   "cell_type": "code",
   "execution_count": 3,
   "metadata": {},
   "outputs": [],
   "source": [
    "#Шаг 2. Подготовьте данные\n",
    "#Замените названия столбцов."
   ]
  },
  {
   "cell_type": "code",
   "execution_count": 4,
   "metadata": {},
   "outputs": [
    {
     "data": {
      "text/html": [
       "<div>\n",
       "<style scoped>\n",
       "    .dataframe tbody tr th:only-of-type {\n",
       "        vertical-align: middle;\n",
       "    }\n",
       "\n",
       "    .dataframe tbody tr th {\n",
       "        vertical-align: top;\n",
       "    }\n",
       "\n",
       "    .dataframe thead th {\n",
       "        text-align: right;\n",
       "    }\n",
       "</style>\n",
       "<table border=\"1\" class=\"dataframe\">\n",
       "  <thead>\n",
       "    <tr style=\"text-align: right;\">\n",
       "      <th></th>\n",
       "      <th>Name</th>\n",
       "      <th>Platform</th>\n",
       "      <th>Year_of_Release</th>\n",
       "      <th>Genre</th>\n",
       "      <th>NA_players</th>\n",
       "      <th>EU_players</th>\n",
       "      <th>RU_players</th>\n",
       "      <th>Other_players</th>\n",
       "      <th>Critic_Score</th>\n",
       "      <th>User_Score</th>\n",
       "      <th>Rating</th>\n",
       "    </tr>\n",
       "  </thead>\n",
       "  <tbody>\n",
       "    <tr>\n",
       "      <th>0</th>\n",
       "      <td>Wii Sports</td>\n",
       "      <td>Wii</td>\n",
       "      <td>2006.0</td>\n",
       "      <td>Sports</td>\n",
       "      <td>41.36</td>\n",
       "      <td>28.96</td>\n",
       "      <td>3.77</td>\n",
       "      <td>8.45</td>\n",
       "      <td>76.0</td>\n",
       "      <td>8</td>\n",
       "      <td>E</td>\n",
       "    </tr>\n",
       "    <tr>\n",
       "      <th>1</th>\n",
       "      <td>Super Mario Bros.</td>\n",
       "      <td>NES</td>\n",
       "      <td>1985.0</td>\n",
       "      <td>Platform</td>\n",
       "      <td>29.08</td>\n",
       "      <td>3.58</td>\n",
       "      <td>6.81</td>\n",
       "      <td>0.77</td>\n",
       "      <td>NaN</td>\n",
       "      <td>NaN</td>\n",
       "      <td>NaN</td>\n",
       "    </tr>\n",
       "    <tr>\n",
       "      <th>2</th>\n",
       "      <td>Mario Kart Wii</td>\n",
       "      <td>Wii</td>\n",
       "      <td>2008.0</td>\n",
       "      <td>Racing</td>\n",
       "      <td>15.68</td>\n",
       "      <td>12.76</td>\n",
       "      <td>3.79</td>\n",
       "      <td>3.29</td>\n",
       "      <td>82.0</td>\n",
       "      <td>8.3</td>\n",
       "      <td>E</td>\n",
       "    </tr>\n",
       "    <tr>\n",
       "      <th>3</th>\n",
       "      <td>Wii Sports Resort</td>\n",
       "      <td>Wii</td>\n",
       "      <td>2009.0</td>\n",
       "      <td>Sports</td>\n",
       "      <td>15.61</td>\n",
       "      <td>10.93</td>\n",
       "      <td>3.28</td>\n",
       "      <td>2.95</td>\n",
       "      <td>80.0</td>\n",
       "      <td>8</td>\n",
       "      <td>E</td>\n",
       "    </tr>\n",
       "    <tr>\n",
       "      <th>4</th>\n",
       "      <td>Pokemon Red/Pokemon Blue</td>\n",
       "      <td>GB</td>\n",
       "      <td>1996.0</td>\n",
       "      <td>Role-Playing</td>\n",
       "      <td>11.27</td>\n",
       "      <td>8.89</td>\n",
       "      <td>10.22</td>\n",
       "      <td>1.00</td>\n",
       "      <td>NaN</td>\n",
       "      <td>NaN</td>\n",
       "      <td>NaN</td>\n",
       "    </tr>\n",
       "  </tbody>\n",
       "</table>\n",
       "</div>"
      ],
      "text/plain": [
       "                       Name Platform  Year_of_Release         Genre  \\\n",
       "0                Wii Sports      Wii           2006.0        Sports   \n",
       "1         Super Mario Bros.      NES           1985.0      Platform   \n",
       "2            Mario Kart Wii      Wii           2008.0        Racing   \n",
       "3         Wii Sports Resort      Wii           2009.0        Sports   \n",
       "4  Pokemon Red/Pokemon Blue       GB           1996.0  Role-Playing   \n",
       "\n",
       "   NA_players  EU_players  RU_players  Other_players  Critic_Score User_Score  \\\n",
       "0       41.36       28.96        3.77           8.45          76.0          8   \n",
       "1       29.08        3.58        6.81           0.77           NaN        NaN   \n",
       "2       15.68       12.76        3.79           3.29          82.0        8.3   \n",
       "3       15.61       10.93        3.28           2.95          80.0          8   \n",
       "4       11.27        8.89       10.22           1.00           NaN        NaN   \n",
       "\n",
       "  Rating  \n",
       "0      E  \n",
       "1    NaN  \n",
       "2      E  \n",
       "3      E  \n",
       "4    NaN  "
      ]
     },
     "execution_count": 4,
     "metadata": {},
     "output_type": "execute_result"
    }
   ],
   "source": [
    "games.head()"
   ]
  },
  {
   "cell_type": "code",
   "execution_count": 5,
   "metadata": {},
   "outputs": [
    {
     "data": {
      "text/html": [
       "<div>\n",
       "<style scoped>\n",
       "    .dataframe tbody tr th:only-of-type {\n",
       "        vertical-align: middle;\n",
       "    }\n",
       "\n",
       "    .dataframe tbody tr th {\n",
       "        vertical-align: top;\n",
       "    }\n",
       "\n",
       "    .dataframe thead th {\n",
       "        text-align: right;\n",
       "    }\n",
       "</style>\n",
       "<table border=\"1\" class=\"dataframe\">\n",
       "  <thead>\n",
       "    <tr style=\"text-align: right;\">\n",
       "      <th></th>\n",
       "      <th>rating_type</th>\n",
       "      <th>decryption</th>\n",
       "    </tr>\n",
       "  </thead>\n",
       "  <tbody>\n",
       "    <tr>\n",
       "      <th>0</th>\n",
       "      <td>E</td>\n",
       "      <td>Для всех</td>\n",
       "    </tr>\n",
       "    <tr>\n",
       "      <th>1</th>\n",
       "      <td>M</td>\n",
       "      <td>От 17 лет</td>\n",
       "    </tr>\n",
       "    <tr>\n",
       "      <th>2</th>\n",
       "      <td>T</td>\n",
       "      <td>Подросткам 13—19 лет</td>\n",
       "    </tr>\n",
       "    <tr>\n",
       "      <th>3</th>\n",
       "      <td>E10+</td>\n",
       "      <td>Для всех старше 10 лет</td>\n",
       "    </tr>\n",
       "    <tr>\n",
       "      <th>4</th>\n",
       "      <td>K-A</td>\n",
       "      <td>Для всех(до 1998 года)</td>\n",
       "    </tr>\n",
       "    <tr>\n",
       "      <th>5</th>\n",
       "      <td>AO</td>\n",
       "      <td>Только для взрослых</td>\n",
       "    </tr>\n",
       "    <tr>\n",
       "      <th>6</th>\n",
       "      <td>EC</td>\n",
       "      <td>Для детей младшего возраста</td>\n",
       "    </tr>\n",
       "    <tr>\n",
       "      <th>7</th>\n",
       "      <td>RP</td>\n",
       "      <td>Рейтинг ожидается</td>\n",
       "    </tr>\n",
       "  </tbody>\n",
       "</table>\n",
       "</div>"
      ],
      "text/plain": [
       "  rating_type                   decryption\n",
       "0           E                     Для всех\n",
       "1           M                    От 17 лет\n",
       "2           T         Подросткам 13—19 лет\n",
       "3        E10+       Для всех старше 10 лет\n",
       "4         K-A       Для всех(до 1998 года)\n",
       "5          AO          Только для взрослых\n",
       "6          EC  Для детей младшего возраста\n",
       "7          RP            Рейтинг ожидается"
      ]
     },
     "execution_count": 5,
     "metadata": {},
     "output_type": "execute_result"
    }
   ],
   "source": [
    "rating"
   ]
  },
  {
   "cell_type": "code",
   "execution_count": 6,
   "metadata": {},
   "outputs": [],
   "source": [
    "games.set_axis(['name',\n",
    "               'platform',\n",
    "               'year_of_relise',\n",
    "               'genre',\n",
    "               'na_players',\n",
    "               'eu_players',\n",
    "               'ru_players',\n",
    "               'other_players',\n",
    "               'critic_score',\n",
    "               'user_score',\n",
    "               'rating_type'], \n",
    "               axis = 'columns', \n",
    "               inplace = True)"
   ]
  },
  {
   "cell_type": "code",
   "execution_count": 7,
   "metadata": {},
   "outputs": [
    {
     "data": {
      "text/html": [
       "<div>\n",
       "<style scoped>\n",
       "    .dataframe tbody tr th:only-of-type {\n",
       "        vertical-align: middle;\n",
       "    }\n",
       "\n",
       "    .dataframe tbody tr th {\n",
       "        vertical-align: top;\n",
       "    }\n",
       "\n",
       "    .dataframe thead th {\n",
       "        text-align: right;\n",
       "    }\n",
       "</style>\n",
       "<table border=\"1\" class=\"dataframe\">\n",
       "  <thead>\n",
       "    <tr style=\"text-align: right;\">\n",
       "      <th></th>\n",
       "      <th>name</th>\n",
       "      <th>platform</th>\n",
       "      <th>year_of_relise</th>\n",
       "      <th>genre</th>\n",
       "      <th>na_players</th>\n",
       "      <th>eu_players</th>\n",
       "      <th>ru_players</th>\n",
       "      <th>other_players</th>\n",
       "      <th>critic_score</th>\n",
       "      <th>user_score</th>\n",
       "      <th>rating_type</th>\n",
       "    </tr>\n",
       "  </thead>\n",
       "  <tbody>\n",
       "    <tr>\n",
       "      <th>0</th>\n",
       "      <td>Wii Sports</td>\n",
       "      <td>Wii</td>\n",
       "      <td>2006.0</td>\n",
       "      <td>Sports</td>\n",
       "      <td>41.36</td>\n",
       "      <td>28.96</td>\n",
       "      <td>3.77</td>\n",
       "      <td>8.45</td>\n",
       "      <td>76.0</td>\n",
       "      <td>8</td>\n",
       "      <td>E</td>\n",
       "    </tr>\n",
       "    <tr>\n",
       "      <th>1</th>\n",
       "      <td>Super Mario Bros.</td>\n",
       "      <td>NES</td>\n",
       "      <td>1985.0</td>\n",
       "      <td>Platform</td>\n",
       "      <td>29.08</td>\n",
       "      <td>3.58</td>\n",
       "      <td>6.81</td>\n",
       "      <td>0.77</td>\n",
       "      <td>NaN</td>\n",
       "      <td>NaN</td>\n",
       "      <td>NaN</td>\n",
       "    </tr>\n",
       "    <tr>\n",
       "      <th>2</th>\n",
       "      <td>Mario Kart Wii</td>\n",
       "      <td>Wii</td>\n",
       "      <td>2008.0</td>\n",
       "      <td>Racing</td>\n",
       "      <td>15.68</td>\n",
       "      <td>12.76</td>\n",
       "      <td>3.79</td>\n",
       "      <td>3.29</td>\n",
       "      <td>82.0</td>\n",
       "      <td>8.3</td>\n",
       "      <td>E</td>\n",
       "    </tr>\n",
       "    <tr>\n",
       "      <th>3</th>\n",
       "      <td>Wii Sports Resort</td>\n",
       "      <td>Wii</td>\n",
       "      <td>2009.0</td>\n",
       "      <td>Sports</td>\n",
       "      <td>15.61</td>\n",
       "      <td>10.93</td>\n",
       "      <td>3.28</td>\n",
       "      <td>2.95</td>\n",
       "      <td>80.0</td>\n",
       "      <td>8</td>\n",
       "      <td>E</td>\n",
       "    </tr>\n",
       "    <tr>\n",
       "      <th>4</th>\n",
       "      <td>Pokemon Red/Pokemon Blue</td>\n",
       "      <td>GB</td>\n",
       "      <td>1996.0</td>\n",
       "      <td>Role-Playing</td>\n",
       "      <td>11.27</td>\n",
       "      <td>8.89</td>\n",
       "      <td>10.22</td>\n",
       "      <td>1.00</td>\n",
       "      <td>NaN</td>\n",
       "      <td>NaN</td>\n",
       "      <td>NaN</td>\n",
       "    </tr>\n",
       "  </tbody>\n",
       "</table>\n",
       "</div>"
      ],
      "text/plain": [
       "                       name platform  year_of_relise         genre  \\\n",
       "0                Wii Sports      Wii          2006.0        Sports   \n",
       "1         Super Mario Bros.      NES          1985.0      Platform   \n",
       "2            Mario Kart Wii      Wii          2008.0        Racing   \n",
       "3         Wii Sports Resort      Wii          2009.0        Sports   \n",
       "4  Pokemon Red/Pokemon Blue       GB          1996.0  Role-Playing   \n",
       "\n",
       "   na_players  eu_players  ru_players  other_players  critic_score user_score  \\\n",
       "0       41.36       28.96        3.77           8.45          76.0          8   \n",
       "1       29.08        3.58        6.81           0.77           NaN        NaN   \n",
       "2       15.68       12.76        3.79           3.29          82.0        8.3   \n",
       "3       15.61       10.93        3.28           2.95          80.0          8   \n",
       "4       11.27        8.89       10.22           1.00           NaN        NaN   \n",
       "\n",
       "  rating_type  \n",
       "0           E  \n",
       "1         NaN  \n",
       "2           E  \n",
       "3           E  \n",
       "4         NaN  "
      ]
     },
     "execution_count": 7,
     "metadata": {},
     "output_type": "execute_result"
    }
   ],
   "source": [
    "games.head()"
   ]
  },
  {
   "cell_type": "code",
   "execution_count": 8,
   "metadata": {},
   "outputs": [
    {
     "data": {
      "text/html": [
       "<div>\n",
       "<style scoped>\n",
       "    .dataframe tbody tr th:only-of-type {\n",
       "        vertical-align: middle;\n",
       "    }\n",
       "\n",
       "    .dataframe tbody tr th {\n",
       "        vertical-align: top;\n",
       "    }\n",
       "\n",
       "    .dataframe thead th {\n",
       "        text-align: right;\n",
       "    }\n",
       "</style>\n",
       "<table border=\"1\" class=\"dataframe\">\n",
       "  <thead>\n",
       "    <tr style=\"text-align: right;\">\n",
       "      <th></th>\n",
       "      <th>name</th>\n",
       "      <th>platform</th>\n",
       "      <th>year_of_relise</th>\n",
       "      <th>genre</th>\n",
       "      <th>na_players</th>\n",
       "      <th>eu_players</th>\n",
       "      <th>ru_players</th>\n",
       "      <th>other_players</th>\n",
       "      <th>critic_score</th>\n",
       "      <th>user_score</th>\n",
       "      <th>rating_type</th>\n",
       "      <th>all_players</th>\n",
       "    </tr>\n",
       "  </thead>\n",
       "  <tbody>\n",
       "    <tr>\n",
       "      <th>0</th>\n",
       "      <td>Wii Sports</td>\n",
       "      <td>Wii</td>\n",
       "      <td>2006.0</td>\n",
       "      <td>Sports</td>\n",
       "      <td>41.36</td>\n",
       "      <td>28.96</td>\n",
       "      <td>3.77</td>\n",
       "      <td>8.45</td>\n",
       "      <td>76.0</td>\n",
       "      <td>8</td>\n",
       "      <td>E</td>\n",
       "      <td>82.54</td>\n",
       "    </tr>\n",
       "    <tr>\n",
       "      <th>1</th>\n",
       "      <td>Super Mario Bros.</td>\n",
       "      <td>NES</td>\n",
       "      <td>1985.0</td>\n",
       "      <td>Platform</td>\n",
       "      <td>29.08</td>\n",
       "      <td>3.58</td>\n",
       "      <td>6.81</td>\n",
       "      <td>0.77</td>\n",
       "      <td>NaN</td>\n",
       "      <td>NaN</td>\n",
       "      <td>NaN</td>\n",
       "      <td>40.24</td>\n",
       "    </tr>\n",
       "    <tr>\n",
       "      <th>2</th>\n",
       "      <td>Mario Kart Wii</td>\n",
       "      <td>Wii</td>\n",
       "      <td>2008.0</td>\n",
       "      <td>Racing</td>\n",
       "      <td>15.68</td>\n",
       "      <td>12.76</td>\n",
       "      <td>3.79</td>\n",
       "      <td>3.29</td>\n",
       "      <td>82.0</td>\n",
       "      <td>8.3</td>\n",
       "      <td>E</td>\n",
       "      <td>35.52</td>\n",
       "    </tr>\n",
       "    <tr>\n",
       "      <th>3</th>\n",
       "      <td>Wii Sports Resort</td>\n",
       "      <td>Wii</td>\n",
       "      <td>2009.0</td>\n",
       "      <td>Sports</td>\n",
       "      <td>15.61</td>\n",
       "      <td>10.93</td>\n",
       "      <td>3.28</td>\n",
       "      <td>2.95</td>\n",
       "      <td>80.0</td>\n",
       "      <td>8</td>\n",
       "      <td>E</td>\n",
       "      <td>32.77</td>\n",
       "    </tr>\n",
       "    <tr>\n",
       "      <th>4</th>\n",
       "      <td>Pokemon Red/Pokemon Blue</td>\n",
       "      <td>GB</td>\n",
       "      <td>1996.0</td>\n",
       "      <td>Role-Playing</td>\n",
       "      <td>11.27</td>\n",
       "      <td>8.89</td>\n",
       "      <td>10.22</td>\n",
       "      <td>1.00</td>\n",
       "      <td>NaN</td>\n",
       "      <td>NaN</td>\n",
       "      <td>NaN</td>\n",
       "      <td>31.38</td>\n",
       "    </tr>\n",
       "  </tbody>\n",
       "</table>\n",
       "</div>"
      ],
      "text/plain": [
       "                       name platform  year_of_relise         genre  \\\n",
       "0                Wii Sports      Wii          2006.0        Sports   \n",
       "1         Super Mario Bros.      NES          1985.0      Platform   \n",
       "2            Mario Kart Wii      Wii          2008.0        Racing   \n",
       "3         Wii Sports Resort      Wii          2009.0        Sports   \n",
       "4  Pokemon Red/Pokemon Blue       GB          1996.0  Role-Playing   \n",
       "\n",
       "   na_players  eu_players  ru_players  other_players  critic_score user_score  \\\n",
       "0       41.36       28.96        3.77           8.45          76.0          8   \n",
       "1       29.08        3.58        6.81           0.77           NaN        NaN   \n",
       "2       15.68       12.76        3.79           3.29          82.0        8.3   \n",
       "3       15.61       10.93        3.28           2.95          80.0          8   \n",
       "4       11.27        8.89       10.22           1.00           NaN        NaN   \n",
       "\n",
       "  rating_type  all_players  \n",
       "0           E        82.54  \n",
       "1         NaN        40.24  \n",
       "2           E        35.52  \n",
       "3           E        32.77  \n",
       "4         NaN        31.38  "
      ]
     },
     "execution_count": 8,
     "metadata": {},
     "output_type": "execute_result"
    }
   ],
   "source": [
    "#Посчитайте количество продаж во всех регионах и запишите в отдельный столбец.\n",
    "def counter(data):\n",
    "    summa = data['na_players'] + data['eu_players'] + data['ru_players'] + data['other_players']\n",
    "    return summa\n",
    "\n",
    "games['all_players'] = games.apply(counter, axis=1)\n",
    "games.head()"
   ]
  },
  {
   "cell_type": "code",
   "execution_count": 9,
   "metadata": {},
   "outputs": [
    {
     "name": "stdout",
     "output_type": "stream",
     "text": [
      "<class 'pandas.core.frame.DataFrame'>\n",
      "RangeIndex: 16719 entries, 0 to 16718\n",
      "Data columns (total 12 columns):\n",
      "name              16717 non-null object\n",
      "platform          16719 non-null object\n",
      "year_of_relise    16450 non-null float64\n",
      "genre             16717 non-null object\n",
      "na_players        16719 non-null float64\n",
      "eu_players        16719 non-null float64\n",
      "ru_players        16719 non-null float64\n",
      "other_players     16719 non-null float64\n",
      "critic_score      8137 non-null float64\n",
      "user_score        10015 non-null object\n",
      "rating_type       9950 non-null object\n",
      "all_players       16719 non-null float64\n",
      "dtypes: float64(7), object(5)\n",
      "memory usage: 1.5+ MB\n"
     ]
    }
   ],
   "source": [
    "#Приведите данные к нужным типам:\n",
    "games.info()"
   ]
  },
  {
   "cell_type": "code",
   "execution_count": 10,
   "metadata": {},
   "outputs": [
    {
     "name": "stdout",
     "output_type": "stream",
     "text": [
      "В графе с названием всего 2 пропуска, поэтому смело их удалим\n"
     ]
    }
   ],
   "source": [
    "print('В графе с названием всего 2 пропуска, поэтому смело их удалим')\n",
    "games.dropna(subset = ['name'], inplace = True)"
   ]
  },
  {
   "cell_type": "code",
   "execution_count": 11,
   "metadata": {},
   "outputs": [
    {
     "name": "stdout",
     "output_type": "stream",
     "text": [
      "Пропуски в столбце с годом издания заменим на 2021, тк скорее всего эти игры еще на ранней стадии разработки\n",
      "Сразу приведем данные к типу int\n"
     ]
    }
   ],
   "source": [
    "print(\"\"\"Пропуски в столбце с годом издания заменим на 2021, тк скорее всего эти игры еще на ранней стадии разработки\n",
    "Сразу приведем данные к типу int\"\"\")\n",
    "games['year_of_relise'] = games['year_of_relise'].fillna(2021.0)\n",
    "games['year_of_relise'] = games['year_of_relise'].astype('int')"
   ]
  },
  {
   "cell_type": "code",
   "execution_count": 12,
   "metadata": {},
   "outputs": [
    {
     "name": "stdout",
     "output_type": "stream",
     "text": [
      "Заменим пропуски в rating_type на RP(рейтинг ожидается) и сразу сольем с таблицей рейтингов\n"
     ]
    }
   ],
   "source": [
    "print('Заменим пропуски в rating_type на RP(рейтинг ожидается) и сразу сольем с таблицей рейтингов')\n",
    "games['rating_type'] = games['rating_type'].fillna('RP')\n",
    "games = games.merge(rating, on='rating_type')"
   ]
  },
  {
   "cell_type": "code",
   "execution_count": 13,
   "metadata": {},
   "outputs": [
    {
     "name": "stdout",
     "output_type": "stream",
     "text": [
      "<class 'pandas.core.frame.DataFrame'>\n",
      "Int64Index: 16717 entries, 0 to 16716\n",
      "Data columns (total 13 columns):\n",
      "name              16717 non-null object\n",
      "platform          16717 non-null object\n",
      "year_of_relise    16717 non-null int32\n",
      "genre             16717 non-null object\n",
      "na_players        16717 non-null float64\n",
      "eu_players        16717 non-null float64\n",
      "ru_players        16717 non-null float64\n",
      "other_players     16717 non-null float64\n",
      "critic_score      8137 non-null float64\n",
      "user_score        10015 non-null object\n",
      "rating_type       16717 non-null object\n",
      "all_players       16717 non-null float64\n",
      "decryption        16717 non-null object\n",
      "dtypes: float64(6), int32(1), object(6)\n",
      "memory usage: 1.7+ MB\n"
     ]
    }
   ],
   "source": [
    "games.info()"
   ]
  },
  {
   "cell_type": "code",
   "execution_count": 14,
   "metadata": {},
   "outputs": [
    {
     "name": "stdout",
     "output_type": "stream",
     "text": [
      "Проверим наличае дубликатов в названии\n",
      "5155 дубликатов\n"
     ]
    }
   ],
   "source": [
    "print('Проверим наличае дубликатов в названии')\n",
    "print(games['name'].duplicated().sum(), 'дубликатов')"
   ]
  },
  {
   "cell_type": "code",
   "execution_count": 15,
   "metadata": {},
   "outputs": [
    {
     "name": "stdout",
     "output_type": "stream",
     "text": [
      "Оказывается есть дубликаты, проверим приведение к нижнему регистру увеличит их колличество? Нет, тогда оставляем как есть\n",
      "5155 дубликатов\n"
     ]
    }
   ],
   "source": [
    "print('Оказывается есть дубликаты, проверим приведение к нижнему регистру увеличит их колличество? Нет, тогда оставляем как есть')\n",
    "print(games['name'].str.lower().duplicated().sum(), 'дубликатов')"
   ]
  },
  {
   "cell_type": "code",
   "execution_count": 16,
   "metadata": {},
   "outputs": [
    {
     "name": "stdout",
     "output_type": "stream",
     "text": [
      "Проверим наличае дубликатов в названии и платформе одновременно, тк одну и ту же игру могли разрабатывать на нескольких платформах\n",
      "4 дубликатов\n"
     ]
    }
   ],
   "source": [
    "print('Проверим наличае дубликатов в названии и платформе одновременно, тк одну и ту же игру могли разрабатывать на нескольких платформах')\n",
    "print(games.duplicated(['name', 'platform']).sum(), 'дубликатов')"
   ]
  },
  {
   "cell_type": "code",
   "execution_count": 17,
   "metadata": {},
   "outputs": [
    {
     "name": "stdout",
     "output_type": "stream",
     "text": [
      "C 4-мя срочками можно спокойно расстаться\n",
      "0 дубликатов осталось\n"
     ]
    }
   ],
   "source": [
    "print('C 4-мя срочками можно спокойно расстаться')\n",
    "games = games.drop_duplicates(['name', 'platform']).reset_index(drop = True)\n",
    "print(games.duplicated(['name', 'platform']).sum(), 'дубликатов осталось')"
   ]
  },
  {
   "cell_type": "code",
   "execution_count": 18,
   "metadata": {},
   "outputs": [
    {
     "name": "stdout",
     "output_type": "stream",
     "text": [
      "В user_score есть значения tbd, что означает - ожидается оценка, для нас же это то же самое что и NaN, заменим и приведем к типу float\n"
     ]
    },
    {
     "name": "stderr",
     "output_type": "stream",
     "text": [
      "C:\\Users\\gamer\\Anaconda3\\lib\\site-packages\\pandas\\core\\indexing.py:190: SettingWithCopyWarning: \n",
      "A value is trying to be set on a copy of a slice from a DataFrame\n",
      "\n",
      "See the caveats in the documentation: http://pandas.pydata.org/pandas-docs/stable/indexing.html#indexing-view-versus-copy\n",
      "  self._setitem_with_indexer(indexer, value)\n"
     ]
    }
   ],
   "source": [
    "import numpy as np\n",
    "\n",
    "print('В user_score есть значения tbd, что означает - ожидается оценка, для нас же это то же самое что и NaN, заменим и приведем к типу float')\n",
    "games['user_score'].loc[games['user_score'] == 'tbd'] = np.nan\n",
    "games['user_score'] = games['user_score'].astype('float')"
   ]
  },
  {
   "cell_type": "code",
   "execution_count": 19,
   "metadata": {},
   "outputs": [
    {
     "name": "stdout",
     "output_type": "stream",
     "text": [
      "С типами данных и пропусками все отлично!\n"
     ]
    }
   ],
   "source": [
    "print('С типами данных и пропусками все отлично!')"
   ]
  },
  {
   "cell_type": "code",
   "execution_count": 20,
   "metadata": {},
   "outputs": [],
   "source": [
    "#Шаг 3. Проведите исследовательский анализ данных\n",
    "#Постройте распределение по годам релиза и опишите полученный результат"
   ]
  },
  {
   "cell_type": "code",
   "execution_count": 21,
   "metadata": {},
   "outputs": [],
   "source": [
    "#Функция выводит результаты по годам\n",
    "def goda(data):\n",
    "    data_pivot = data.pivot_table(index='year_of_relise', values ='name', aggfunc='count')\n",
    "    data_pivot.plot(y = 'name', \n",
    "                          style = 'o-',\n",
    "                          figsize = (15, 7),\n",
    "                          grid = True)\n",
    "    print(data_pivot)"
   ]
  },
  {
   "cell_type": "code",
   "execution_count": 22,
   "metadata": {},
   "outputs": [
    {
     "name": "stdout",
     "output_type": "stream",
     "text": [
      "                name\n",
      "year_of_relise      \n",
      "1980               9\n",
      "1981              46\n",
      "1982              36\n",
      "1983              17\n",
      "1984              14\n",
      "1985              14\n",
      "1986              21\n",
      "1987              16\n",
      "1988              15\n",
      "1989              17\n",
      "1990              16\n",
      "1991              41\n",
      "1992              43\n",
      "1993              60\n",
      "1994             121\n",
      "1995             219\n",
      "1996             263\n",
      "1997             289\n",
      "1998             379\n",
      "1999             338\n",
      "2000             350\n",
      "2001             482\n",
      "2002             829\n",
      "2003             775\n",
      "2004             762\n",
      "2005             938\n",
      "2006            1006\n",
      "2007            1197\n",
      "2008            1427\n",
      "2009            1426\n",
      "2010            1255\n",
      "2011            1136\n",
      "2012             651\n",
      "2013             544\n",
      "2014             581\n",
      "2015             606\n",
      "2016             502\n",
      "2017               3\n",
      "2020               1\n",
      "2021             268\n"
     ]
    }
   ],
   "source": [
    "goda(games)"
   ]
  },
  {
   "cell_type": "code",
   "execution_count": 23,
   "metadata": {},
   "outputs": [
    {
     "name": "stdout",
     "output_type": "stream",
     "text": [
      "Пик выпуска игр был с 2006 по 2011 года, причем с 1980 до 2006 колличество игр почти постоянно росло\n",
      "После 2011 колличество игр упало и составляет примерно 550\n"
     ]
    }
   ],
   "source": [
    "print(\"\"\"Пик выпуска игр был с 2006 по 2011 года, причем с 1980 до 2006 колличество игр почти постоянно росло\n",
    "После 2011 колличество игр упало и составляет примерно 550\"\"\")"
   ]
  },
  {
   "cell_type": "code",
   "execution_count": 24,
   "metadata": {},
   "outputs": [],
   "source": [
    "#Постройте распределение по годам релиза для игр с отзывом и без отзыва; cравните полученные распределения и сделайте вывод\n",
    "import numpy as np\n",
    "\n",
    "def otziv(data):\n",
    "    if (pd.isna(data['critic_score'])) & ((pd.isna(data['user_score'])) or (data['user_score'] == 'tbd')):\n",
    "        return 'без отвывов'\n",
    "    else:\n",
    "        return 'с отзывами'\n",
    "\n",
    "games['otziv'] = games.apply(otziv, axis=1)"
   ]
  },
  {
   "cell_type": "code",
   "execution_count": 25,
   "metadata": {},
   "outputs": [],
   "source": [
    "games_s_otzivom = games.query('otziv == \"с отзывами\"')\n",
    "games_bez_otziva = games.query('otziv == \"без отвывов\"')"
   ]
  },
  {
   "cell_type": "code",
   "execution_count": 26,
   "metadata": {},
   "outputs": [
    {
     "name": "stdout",
     "output_type": "stream",
     "text": [
      "                name\n",
      "year_of_relise      \n",
      "1985               1\n",
      "1988               1\n",
      "1992               1\n",
      "1994               1\n",
      "1996               8\n",
      "1997              21\n",
      "1998              33\n",
      "1999              40\n",
      "2000             148\n",
      "2001             327\n",
      "2002             636\n",
      "2003             602\n",
      "2004             573\n",
      "2005             675\n",
      "2006             644\n",
      "2007             731\n",
      "2008             781\n",
      "2009             711\n",
      "2010             536\n",
      "2011             535\n",
      "2012             337\n",
      "2013             305\n",
      "2014             334\n",
      "2015             301\n",
      "2016             267\n",
      "2021             157\n"
     ]
    },
    {
     "data": {
      "image/png": "[encoded data removed]",
      "text/plain": [
       "<Figure size 1080x504 with 1 Axes>"
      ]
     },
     "metadata": {
      "needs_background": "light"
     },
     "output_type": "display_data"
    }
   ],
   "source": [
    "goda(games_s_otzivom)"
   ]
  },
  {
   "cell_type": "code",
   "execution_count": 27,
   "metadata": {},
   "outputs": [
    {
     "name": "stdout",
     "output_type": "stream",
     "text": [
      "                name\n",
      "year_of_relise      \n",
      "1980               9\n",
      "1981              46\n",
      "1982              36\n",
      "1983              17\n",
      "1984              14\n",
      "1985              13\n",
      "1986              21\n",
      "1987              16\n",
      "1988              14\n",
      "1989              17\n",
      "1990              16\n",
      "1991              41\n",
      "1992              42\n",
      "1993              60\n",
      "1994             120\n",
      "1995             219\n",
      "1996             255\n",
      "1997             268\n",
      "1998             346\n",
      "1999             298\n",
      "2000             202\n",
      "2001             155\n",
      "2002             193\n",
      "2003             173\n",
      "2004             189\n",
      "2005             263\n",
      "2006             362\n",
      "2007             466\n",
      "2008             646\n",
      "2009             715\n",
      "2010             719\n",
      "2011             601\n",
      "2012             314\n",
      "2013             239\n",
      "2014             247\n",
      "2015             305\n",
      "2016             235\n",
      "2017               3\n",
      "2020               1\n",
      "2021             111\n"
     ]
    },
    {
     "data": {
      "image/png": "[encoded data removed]",
      "text/plain": [
       "<Figure size 1080x504 with 1 Axes>"
      ]
     },
     "metadata": {
      "needs_background": "light"
     },
     "output_type": "display_data"
    }
   ],
   "source": [
    "goda(games_bez_otziva)"
   ]
  },
  {
   "cell_type": "code",
   "execution_count": 28,
   "metadata": {},
   "outputs": [
    {
     "name": "stdout",
     "output_type": "stream",
     "text": [
      "С 2002 по 2011 год было больше всего игр с отзывами, до 2002 колличество игр с отзывами росло,после 2011 держится на уровне 300\n",
      "Пик игр без отзывов другой: с 2008 по 2011 года\n"
     ]
    }
   ],
   "source": [
    "print(\"\"\"С 2002 по 2011 год было больше всего игр с отзывами, до 2002 колличество игр с отзывами росло,после 2011 держится на уровне 300\n",
    "Пик игр без отзывов другой: с 2008 по 2011 года\"\"\")"
   ]
  },
  {
   "cell_type": "code",
   "execution_count": 29,
   "metadata": {},
   "outputs": [
    {
     "name": "stdout",
     "output_type": "stream",
     "text": [
      "                all_players\n",
      "year_of_relise             \n",
      "1980                  11.38\n",
      "1981                  35.68\n",
      "1982                  28.88\n",
      "1983                  16.80\n",
      "1984                  50.35\n",
      "1985                  53.95\n",
      "1986                  37.08\n",
      "1987                  21.70\n",
      "1988                  47.21\n",
      "1989                  73.45\n",
      "1990                  49.37\n",
      "1991                  32.23\n",
      "1992                  76.16\n",
      "1993                  45.99\n",
      "1994                  79.23\n",
      "1995                  88.12\n",
      "1996                 199.15\n",
      "1997                 201.07\n",
      "1998                 256.31\n",
      "1999                 251.11\n",
      "2000                 201.66\n",
      "2001                 331.46\n",
      "2002                 394.97\n",
      "2003                 357.54\n",
      "2004                 418.68\n",
      "2005                 456.57\n",
      "2006                 517.71\n",
      "2007                 604.75\n",
      "2008                 671.50\n",
      "2009                 658.82\n",
      "2010                 590.13\n",
      "2011                 507.58\n",
      "2012                 355.75\n",
      "2013                 361.24\n",
      "2014                 331.53\n",
      "2015                 267.98\n",
      "2016                 129.94\n",
      "2017                   0.06\n",
      "2020                   0.29\n",
      "2021                  98.44\n"
     ]
    },
    {
     "data": {
      "image/png": "[encoded data removed]",
      "text/plain": [
       "<Figure size 1080x504 with 1 Axes>"
      ]
     },
     "metadata": {
      "needs_background": "light"
     },
     "output_type": "display_data"
    }
   ],
   "source": [
    "#Постройте график продаж по каждому году; сделайте вывод\n",
    "games_platform_pivot = games.pivot_table(index='year_of_relise', values ='all_players', aggfunc='sum')\n",
    "games_platform_pivot.plot(y = 'all_players', \n",
    "                          style = 'o-',\n",
    "                          figsize = (15, 7),\n",
    "                          grid = True)\n",
    "print(games_platform_pivot)"
   ]
  },
  {
   "cell_type": "code",
   "execution_count": 30,
   "metadata": {},
   "outputs": [
    {
     "name": "stdout",
     "output_type": "stream",
     "text": [
      "Пик продаж игр был с 2006 по 2011 года, причем с 1980 до 2006 колличество игр почти постоянно росло\n",
      "После 2011 колличество продаж игр упало\n"
     ]
    }
   ],
   "source": [
    "print(\"\"\"Пик продаж игр был с 2006 по 2011 года, причем с 1980 до 2006 колличество игр почти постоянно росло\n",
    "После 2011 колличество продаж игр упало\"\"\")"
   ]
  },
  {
   "cell_type": "code",
   "execution_count": 31,
   "metadata": {},
   "outputs": [
    {
     "data": {
      "text/plain": [
       "(0, 0.6)"
      ]
     },
     "execution_count": 31,
     "metadata": {},
     "output_type": "execute_result"
    },
    {
     "data": {
      "image/png": "[encoded data removed]",
      "text/plain": [
       "<Figure size 432x288 with 1 Axes>"
      ]
     },
     "metadata": {
      "needs_background": "light"
     },
     "output_type": "display_data"
    }
   ],
   "source": [
    "#Постройте ящик с усами по глобальным продажам, опишите полученный результат\n",
    "import matplotlib.pyplot as plt\n",
    "\n",
    "games.boxplot(column='all_players')\n",
    "plt.ylim(0, 0.6)"
   ]
  },
  {
   "cell_type": "code",
   "execution_count": 32,
   "metadata": {},
   "outputs": [
    {
     "name": "stdout",
     "output_type": "stream",
     "text": [
      "Основная масса игр имела от 60 до 470 тысяч игроков с медианой 170 тысяч\n"
     ]
    }
   ],
   "source": [
    "print('Основная масса игр имела от 60 до 470 тысяч игроков с медианой 170 тысяч')"
   ]
  },
  {
   "cell_type": "code",
   "execution_count": 33,
   "metadata": {},
   "outputs": [
    {
     "name": "stdout",
     "output_type": "stream",
     "text": [
      "Больше всего игр выпустили на платформе\n",
      "          name\n",
      "platform      \n",
      "PS2       2161\n"
     ]
    }
   ],
   "source": [
    "#Узнайте, на какой платформе было выпущено больше всего игр\n",
    "print('Больше всего игр выпустили на платформе')\n",
    "print(games.pivot_table(index='platform', \n",
    "                        values ='name', \n",
    "                        aggfunc='count').sort_values(by = 'name',\n",
    "                                                     ascending = False).head(1))"
   ]
  },
  {
   "cell_type": "code",
   "execution_count": 34,
   "metadata": {},
   "outputs": [
    {
     "name": "stdout",
     "output_type": "stream",
     "text": [
      "Больше всего игр жанра\n",
      "        name\n",
      "genre       \n",
      "Action  3370\n"
     ]
    }
   ],
   "source": [
    "#Определите, игр какого жанра больше всего\n",
    "print('Больше всего игр жанра')\n",
    "print(games.pivot_table(index='genre', \n",
    "                        values ='name', \n",
    "                        aggfunc='count').sort_values(by = 'name',\n",
    "                                                     ascending = False).head(1))"
   ]
  },
  {
   "cell_type": "code",
   "execution_count": 35,
   "metadata": {},
   "outputs": [
    {
     "name": "stdout",
     "output_type": "stream",
     "text": [
      "Игры с наибольшей оценкой от критиков\n",
      "                           name  critic_score\n",
      "12357  Tony Hawk's Pro Skater 2          98.0\n",
      "10776       Grand Theft Auto IV          98.0\n",
      "10774       Grand Theft Auto IV          98.0\n",
      "13377               SoulCalibur          98.0\n",
      "12403             Metroid Prime          97.0\n"
     ]
    }
   ],
   "source": [
    "#Найдите игры с наибольшей и наименьшей оценкой от критиков\n",
    "print('Игры с наибольшей оценкой от критиков')\n",
    "print(games.sort_values(by = 'critic_score',\n",
    "                        ascending = False).loc[:, ['name', 'critic_score']].head())"
   ]
  },
  {
   "cell_type": "code",
   "execution_count": 36,
   "metadata": {},
   "outputs": [
    {
     "name": "stdout",
     "output_type": "stream",
     "text": [
      "Игры с наименьшей оценкой от критиков\n",
      "                                      name  critic_score\n",
      "12168                         Ride to Hell          13.0\n",
      "11965  Leisure Suit Larry: Box Office Bust          17.0\n",
      "16636                        Balls of Fury          19.0\n",
      "2616                              Rugby 15          19.0\n",
      "3116                             Anubis II          19.0\n"
     ]
    }
   ],
   "source": [
    "print('Игры с наименьшей оценкой от критиков')\n",
    "print(games.sort_values(by = 'critic_score',\n",
    "                        ascending = True).loc[:, ['name', 'critic_score']].head())"
   ]
  },
  {
   "cell_type": "code",
   "execution_count": 37,
   "metadata": {},
   "outputs": [
    {
     "name": "stdout",
     "output_type": "stream",
     "text": [
      "Игры с наибольшей оценкой от пользователей\n",
      "                                        name  user_score\n",
      "14998                     Breath of Fire III         9.7\n",
      "885    Harvest Moon: Friends of Mineral Town         9.6\n",
      "2326         Boktai: The Sun is in Your Hand         9.6\n",
      "2640                       Cory in the House         9.5\n",
      "3978                           Karnaaj Rally         9.5\n"
     ]
    }
   ],
   "source": [
    "#Найдите игры с наибольшей и наименьшей оценкой от пользователей\n",
    "print('Игры с наибольшей оценкой от пользователей')\n",
    "print(games.sort_values(by = 'user_score',\n",
    "                        ascending = False).query('user_score != \"tbd\"').loc[:, ['name', 'user_score']].head())"
   ]
  },
  {
   "cell_type": "code",
   "execution_count": 38,
   "metadata": {},
   "outputs": [
    {
     "name": "stdout",
     "output_type": "stream",
     "text": [
      "Игры с наименьшей оценкой от пользователей\n",
      "                                            name  user_score\n",
      "734           My Little Pony: Pinkie Pie's Party         0.0\n",
      "2600                               Madden NFL 17         0.2\n",
      "3491              Myth Makers: Trixie in Toyland         0.2\n",
      "1500                                  Happy Feet         0.3\n",
      "3422  Billy the Wizard: Rocket Broomstick Racing         0.3\n"
     ]
    }
   ],
   "source": [
    "print('Игры с наименьшей оценкой от пользователей')\n",
    "print(games.sort_values(by = 'user_score',\n",
    "                        ascending = True).loc[:, ['name', 'user_score']].head())"
   ]
  },
  {
   "cell_type": "code",
   "execution_count": 39,
   "metadata": {},
   "outputs": [
    {
     "name": "stdout",
     "output_type": "stream",
     "text": [
      "0.5807761971133988\n"
     ]
    }
   ],
   "source": [
    "#Оцените корреляцию между оценками критиков и пользовательскими оценками.\n",
    "print(games['critic_score'].corr(games['user_score']))"
   ]
  },
  {
   "cell_type": "code",
   "execution_count": 40,
   "metadata": {},
   "outputs": [
    {
     "data": {
      "text/plain": [
       "<matplotlib.axes._subplots.AxesSubplot at 0x78b1d3e438>"
      ]
     },
     "execution_count": 40,
     "metadata": {},
     "output_type": "execute_result"
    },
    {
     "data": {
      "image/png": "[encoded data removed]",
      "text/plain": [
       "<Figure size 720x216 with 1 Axes>"
      ]
     },
     "metadata": {
      "needs_background": "light"
     },
     "output_type": "display_data"
    }
   ],
   "source": [
    "games.plot(x = 'critic_score', \n",
    "           y = 'user_score',\n",
    "           style = 'o',\n",
    "           grid=True, \n",
    "           figsize=(10, 3), \n",
    "           alpha=0.1)"
   ]
  },
  {
   "cell_type": "code",
   "execution_count": 41,
   "metadata": {},
   "outputs": [
    {
     "name": "stdout",
     "output_type": "stream",
     "text": [
      "Корреляция между оценками критиков и пользовательскими оценками равна 0.58, а это значит что зависимость между ними есть\n"
     ]
    }
   ],
   "source": [
    "print('Корреляция между оценками критиков и пользовательскими оценками равна 0.58, а это значит что зависимость между ними есть')"
   ]
  },
  {
   "cell_type": "code",
   "execution_count": 42,
   "metadata": {},
   "outputs": [],
   "source": [
    "#Шаг 4. Составьте портрет пользователя для каждого региона"
   ]
  },
  {
   "cell_type": "code",
   "execution_count": 43,
   "metadata": {},
   "outputs": [
    {
     "name": "stdout",
     "output_type": "stream",
     "text": [
      "          na_players\n",
      "genre               \n",
      "Action        879.01\n",
      "Sports        684.43\n",
      "Shooter       592.24\n",
      "Platform      445.50\n",
      "Misc          407.27\n",
      "\n",
      "         eu_players\n",
      "genre              \n",
      "Action       519.13\n",
      "Sports       376.78\n",
      "Shooter      317.34\n",
      "Racing       236.32\n",
      "Misc         212.74\n",
      "\n",
      "              ru_players\n",
      "genre                   \n",
      "Role-Playing      355.46\n",
      "Action            161.44\n",
      "Sports            135.54\n",
      "Platform          130.83\n",
      "Misc              108.11\n",
      "\n"
     ]
    }
   ],
   "source": [
    "#Для пользователей каждого региона (Северная Америка, Европа и Россия) определите:\n",
    "#топ-5 предпочтительных жанров\n",
    "def top_5(data, location, genre):\n",
    "    print(games.pivot_table(index = genre, \n",
    "                            values = location, \n",
    "                            aggfunc='sum').sort_values(by = location,\n",
    "                                                         ascending = False).head())\n",
    "    print()\n",
    "for row in ['na_players', 'eu_players', 'ru_players']:\n",
    "    top_5(games, row, 'genre')"
   ]
  },
  {
   "cell_type": "code",
   "execution_count": 44,
   "metadata": {},
   "outputs": [
    {
     "name": "stdout",
     "output_type": "stream",
     "text": [
      "Жанры экшн, спорт, разное популярны везде, \n",
      "в Европе и Америке популярен жанр шутер, \n",
      "в Америке и России - платформенные игры, \n",
      "в Европе в топ попали гонки \n"
     ]
    }
   ],
   "source": [
    "print(\"\"\"Жанры экшн, спорт, разное популярны везде, \n",
    "в Европе и Америке популярен жанр шутер, \n",
    "в Америке и России - платформенные игры, \n",
    "в Европе в топ попали гонки \"\"\")"
   ]
  },
  {
   "cell_type": "code",
   "execution_count": 45,
   "metadata": {},
   "outputs": [
    {
     "name": "stdout",
     "output_type": "stream",
     "text": [
      "Года, когда пользователи были наиболее активны\n",
      "                all_players\n",
      "year_of_relise             \n",
      "2008                 671.50\n",
      "2009                 658.82\n",
      "2007                 604.75\n",
      "2010                 590.13\n",
      "2006                 517.71\n"
     ]
    }
   ],
   "source": [
    "#в какие года пользователи были наиболее активны (больше всего покупали игры)\n",
    "print('Года, когда пользователи были наиболее активны')\n",
    "\n",
    "print(games.pivot_table(index='year_of_relise', \n",
    "                        values ='all_players', \n",
    "                        aggfunc='sum').sort_values(by = 'all_players',\n",
    "                                                   ascending = False).head())"
   ]
  },
  {
   "cell_type": "code",
   "execution_count": 46,
   "metadata": {},
   "outputs": [
    {
     "name": "stdout",
     "output_type": "stream",
     "text": [
      "Самые предпочтительные платформы:\n",
      "          all_players\n",
      "platform             \n",
      "PS2           1255.77\n",
      "X360           970.17\n",
      "PS3            939.16\n",
      "Wii            907.51\n",
      "DS             806.41\n",
      "\n"
     ]
    }
   ],
   "source": [
    "#топ-5 предпочтительных платформ\n",
    "print('Самые предпочтительные платформы:')\n",
    "top_5(games, 'all_players', 'platform')"
   ]
  },
  {
   "cell_type": "code",
   "execution_count": 47,
   "metadata": {},
   "outputs": [
    {
     "name": "stdout",
     "output_type": "stream",
     "text": [
      "Самые предпочтительные игры по рейтингу ESRB:\n",
      "                        all_players\n",
      "decryption                         \n",
      "Рейтинг ожидается           2847.06\n",
      "Для всех                    2435.80\n",
      "Подросткам 13—19 лет        1492.02\n",
      "От 17 лет                   1473.79\n",
      "Для всех старше 10 лет       655.12\n",
      "\n"
     ]
    }
   ],
   "source": [
    "#какой рейтинг ESRB встречается чаще всего (наиболее частотная категория)\n",
    "print('Самые предпочтительные игры по рейтингу ESRB:')\n",
    "top_5(games, 'all_players', 'decryption')"
   ]
  },
  {
   "cell_type": "code",
   "execution_count": 48,
   "metadata": {},
   "outputs": [
    {
     "name": "stdout",
     "output_type": "stream",
     "text": [
      "Проверим гипотизы:\n",
      "-средний пользовательский рейтинг платформ PS2 и PS3 одинаковый\n",
      "-средний пользовательский рейтинг жанров Action и Sports различается\n",
      "альфу примем за 0.05\n"
     ]
    }
   ],
   "source": [
    "#Шаг 5. Проверьте гипотезы:\n",
    "print(\"\"\"Проверим гипотизы:\n",
    "-средний пользовательский рейтинг платформ PS2 и PS3 одинаковый\n",
    "-средний пользовательский рейтинг жанров Action и Sports различается\"\"\")\n",
    "from scipy import stats as st\n",
    "print('альфу примем за 0.05')\n",
    "alpha = 0.05\n",
    "\n",
    "def gipoteza(data_1, data_2):\n",
    "    results = st.ttest_ind(\n",
    "        data_1['user_score'], \n",
    "        data_2['user_score'],\n",
    "        )\n",
    "\n",
    "    print('p-значение:', results.pvalue)\n",
    "\n",
    "    if (results.pvalue < alpha):\n",
    "        print(\"Отвергаем нулевую гипотезу\")\n",
    "    else:\n",
    "        print(\"Не получилось отвергнуть нулевую гипотезу\")"
   ]
  },
  {
   "cell_type": "code",
   "execution_count": 49,
   "metadata": {},
   "outputs": [
    {
     "name": "stdout",
     "output_type": "stream",
     "text": [
      "Чтобы мы могли сравнивать заполним пропуски в данных\n"
     ]
    }
   ],
   "source": [
    "print('Чтобы мы могли сравнивать заполним пропуски в данных')"
   ]
  },
  {
   "cell_type": "code",
   "execution_count": 50,
   "metadata": {},
   "outputs": [
    {
     "name": "stdout",
     "output_type": "stream",
     "text": [
      "Заменим пропуски в рейтинге критиков на средние значения и сразу приведем к типу int\n"
     ]
    }
   ],
   "source": [
    "print('Заменим пропуски в рейтинге критиков на средние значения и сразу приведем к типу int')\n",
    "games['critic_score'] = games['critic_score'].fillna(games['critic_score'].mean()).astype('int')"
   ]
  },
  {
   "cell_type": "code",
   "execution_count": 51,
   "metadata": {},
   "outputs": [
    {
     "name": "stdout",
     "output_type": "stream",
     "text": [
      "Заменим пропуски в рейтинге пользователей на средние значения, а там где tbd на рейтинг критиков и сразу приведем к типу int\n"
     ]
    },
    {
     "name": "stderr",
     "output_type": "stream",
     "text": [
      "C:\\Users\\gamer\\Anaconda3\\lib\\site-packages\\pandas\\core\\ops.py:1649: FutureWarning: elementwise comparison failed; returning scalar instead, but in the future will perform elementwise comparison\n",
      "  result = method(y)\n"
     ]
    }
   ],
   "source": [
    "print('Заменим пропуски в рейтинге пользователей на средние значения, а там где tbd на рейтинг критиков и сразу приведем к типу int')\n",
    "games.loc[games['user_score'] == 'tbd', 'user_score'] = games['critic_score'].astype('float') / 10\n",
    "games['user_score'] = pd.to_numeric(games['user_score'], errors = 'raise')\n",
    "games['user_score'] = games['user_score'].fillna(games['user_score'].mean())\n",
    "games['user_score'] = games['user_score'] * 10\n",
    "games['user_score'] = games['user_score'].astype('int')"
   ]
  },
  {
   "cell_type": "code",
   "execution_count": 52,
   "metadata": {},
   "outputs": [
    {
     "name": "stdout",
     "output_type": "stream",
     "text": [
      "Cредний пользовательский рейтинг платформ PS2 и PS3 одинаковый\n",
      "p-значение: 3.850553460584592e-45\n",
      "Отвергаем нулевую гипотезу\n",
      "Получается рейтинг платформ различен\n"
     ]
    }
   ],
   "source": [
    "#средний пользовательский рейтинг платформ PS2 и PS3 одинаковый;\n",
    "print('Cредний пользовательский рейтинг платформ PS2 и PS3 одинаковый')\n",
    "gipoteza(games.query('platform == \"PS2\"'), games.query('platform == \"PS3\"'))\n",
    "print('Получается рейтинг платформ различен')"
   ]
  },
  {
   "cell_type": "code",
   "execution_count": 53,
   "metadata": {},
   "outputs": [
    {
     "name": "stdout",
     "output_type": "stream",
     "text": [
      "Cредний пользовательский рейтинг жанров Action и Sports различается\n",
      "p-значение: 0.17021406146733126\n",
      "Не получилось отвергнуть нулевую гипотезу\n",
      "Получается рейтинг жанров одинаков\n"
     ]
    }
   ],
   "source": [
    "#средний пользовательский рейтинг жанров Action и Sports различается.\n",
    "print('Cредний пользовательский рейтинг жанров Action и Sports различается')\n",
    "gipoteza(games.query('genre == \"Action\"'), games.query('genre == \"Sports\"'))\n",
    "print('Получается рейтинг жанров одинаков')"
   ]
  },
  {
   "cell_type": "code",
   "execution_count": 54,
   "metadata": {},
   "outputs": [
    {
     "name": "stdout",
     "output_type": "stream",
     "text": [
      "\n",
      "ОБЩИЙ ВЫВОД!!!\n",
      "\n",
      "Пик выпуска игр был с 2006 по 2011 года\n",
      "С 2002 по 2011 год было больше всего игр с отзывами\n",
      "Пик игр без отзывов с 2008 по 2011 года\n",
      "\n",
      "Пик продаж игр был с 2006 по 2011 года\n",
      "\n",
      "Основная масса игр имела от 60 до 470 тысяч игроков с медианой 170 тысяч\n",
      "\n",
      "Больше всего игр выпустили на платформе PS2\n",
      "\n",
      "Больше всего игр жанра Экшен\n",
      "\n",
      "Игры с наибольшей оценкой от критиков\n",
      "                           name  critic_score\n",
      "10776       Grand Theft Auto IV            98\n",
      "12357  Tony Hawk's Pro Skater 2            98\n",
      "10774       Grand Theft Auto IV            98\n",
      "13377               SoulCalibur            98\n",
      "10794      Halo: Combat Evolved            97\n",
      "Игры с наименьшей оценкой от пользователей\n",
      "                                            name  user_score\n",
      "734           My Little Pony: Pinkie Pie's Party           0\n",
      "2600                               Madden NFL 17           2\n",
      "3491              Myth Makers: Trixie in Toyland           2\n",
      "3422  Billy the Wizard: Rocket Broomstick Racing           3\n",
      "1500                                  Happy Feet           3\n",
      "\n",
      "Корреляция между оценками критиков и пользовательскими оценками равна 0.58, а это значит что зависимость между ними есть\n",
      "\n",
      "Жанры экшн, спорт, разное популярны везде, \n",
      "в Европе и Америке популярен жанр шутер, \n",
      "в Америке и России - платформенные игры, \n",
      "в Европе в топ попали гонки\n",
      "\n",
      "Года, когда пользователи были наиболее активны\n",
      "                all_players\n",
      "year_of_relise             \n",
      "2008                 671.50\n",
      "2009                 658.82\n",
      "2007                 604.75\n",
      "2010                 590.13\n",
      "2006                 517.71\n",
      "Самые предпочтительные платформы:\n",
      "          all_players\n",
      "platform             \n",
      "PS2           1255.77\n",
      "X360           970.17\n",
      "PS3            939.16\n",
      "Wii            907.51\n",
      "DS             806.41\n",
      "\n",
      "Самые предпочтительные игры по рейтингу ESRB:\n",
      "                        all_players\n",
      "decryption                         \n",
      "Рейтинг ожидается           2847.06\n",
      "Для всех                    2435.80\n",
      "Подросткам 13—19 лет        1492.02\n",
      "От 17 лет                   1473.79\n",
      "Для всех старше 10 лет       655.12\n",
      "\n",
      "Cредний пользовательский рейтинг платформ PS2 и PS3 различается\n",
      "Cредний пользовательский рейтинг жанров Action и Sports одинаков\n"
     ]
    }
   ],
   "source": [
    "#Шаг 6. Напишите общий вывод\n",
    "print(\"\"\"\n",
    "ОБЩИЙ ВЫВОД!!!\n",
    "\n",
    "Пик выпуска игр был с 2006 по 2011 года\n",
    "С 2002 по 2011 год было больше всего игр с отзывами\n",
    "Пик игр без отзывов с 2008 по 2011 года\n",
    "\n",
    "Пик продаж игр был с 2006 по 2011 года\n",
    "\n",
    "Основная масса игр имела от 60 до 470 тысяч игроков с медианой 170 тысяч\n",
    "\n",
    "Больше всего игр выпустили на платформе PS2\n",
    "\n",
    "Больше всего игр жанра Экшен\"\"\")\n",
    "print()\n",
    "print('Игры с наибольшей оценкой от критиков')\n",
    "print(games.sort_values(by = 'critic_score',\n",
    "                        ascending = False).loc[:, ['name', 'critic_score']].head())\n",
    "print('Игры с наименьшей оценкой от пользователей')\n",
    "print(games.sort_values(by = 'user_score',\n",
    "                        ascending = True).loc[:, ['name', 'user_score']].head())\n",
    "print()\n",
    "print(\"\"\"Корреляция между оценками критиков и пользовательскими оценками равна 0.58, а это значит что зависимость между ними есть\n",
    "\n",
    "Жанры экшн, спорт, разное популярны везде, \n",
    "в Европе и Америке популярен жанр шутер, \n",
    "в Америке и России - платформенные игры, \n",
    "в Европе в топ попали гонки\"\"\")\n",
    "print()\n",
    "print('Года, когда пользователи были наиболее активны')\n",
    "\n",
    "print(games.pivot_table(index='year_of_relise', \n",
    "                        values ='all_players', \n",
    "                        aggfunc='sum').sort_values(by = 'all_players',\n",
    "                                                   ascending = False).head())\n",
    "print('Самые предпочтительные платформы:')\n",
    "top_5(games, 'all_players', 'platform')\n",
    "print('Самые предпочтительные игры по рейтингу ESRB:')\n",
    "top_5(games, 'all_players', 'decryption')\n",
    "\n",
    "print(\"\"\"Cредний пользовательский рейтинг платформ PS2 и PS3 различается\n",
    "Cредний пользовательский рейтинг жанров Action и Sports одинаков\"\"\")"
   ]
  },
  {
   "cell_type": "code",
   "execution_count": 55,
   "metadata": {},
   "outputs": [],
   "source": [
    "#Описание данных\n",
    "\n",
    "#Name — название игры\n",
    "#Platform — платформа\n",
    "#Year_of_Release — год релиза\n",
    "#Genre — жанр игры\n",
    "#NA_players — продажи игрокам в Северной Америке (в миллионах долларов)\n",
    "#EU_players — продажи игрокам в Европе (в миллионах долларов)\n",
    "#RU_players — продажи игрокам в России (в миллионах долларов)\n",
    "#Other_players — продажи игрокам в других странах\n",
    "#Critic_Score — оценка критиков (максимум 100)\n",
    "#User_Score — оценка пользователей (максимум 10)\n",
    "#Rating — рейтинг ESRB"
   ]
  }
 ],
 "metadata": {
  "kernelspec": {
   "display_name": "Python 3",
   "language": "python",
   "name": "python3"
  },
  "language_info": {
   "codemirror_mode": {
    "name": "ipython",
    "version": 3
   },
   "file_extension": ".py",
   "mimetype": "text/x-python",
   "name": "python",
   "nbconvert_exporter": "python",
   "pygments_lexer": "ipython3",
   "version": "3.7.3"
  }
 },
 "nbformat": 4,
 "nbformat_minor": 2
}
