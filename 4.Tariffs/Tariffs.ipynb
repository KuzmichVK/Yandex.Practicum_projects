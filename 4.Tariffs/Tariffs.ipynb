{
 "cells": [
  {
   "cell_type": "code",
   "execution_count": 1,
   "metadata": {},
   "outputs": [],
   "source": [
    "#Описание тарифов\n",
    "\n",
    "#Тариф «Смарт»\n",
    "#Ежемесячная плата: 550 рублей\n",
    "#Включено 500 минут разговора, 50 сообщений и 15 Гб интернет-трафика\n",
    "#Стоимость услуг сверх тарифного пакета:\n",
    "#минута разговора: 3 рубля («Мегалайн» всегда округляет вверх значения минут и мегабайтов. Если пользователь проговорил всего 1 секунду, в тарифе засчитывается целая минута.)\n",
    "#сообщение: 3 рубля\n",
    "#1 Гб интернет-трафика: 200 рублей\n",
    "\n",
    "#Тариф «Ультра»\n",
    "#Ежемесячная плата: 1950 рублей\n",
    "#Включено 3000 минут разговора, 1000 сообщений и 30 Гб интернет-трафика\n",
    "#Стоимость услуг сверх тарифного пакета:\n",
    "#минута разговора: 1 рубль\n",
    "#сообщение: 1 рубль\n",
    "#1 Гб интернет-трафика: 150 рублей"
   ]
  },
  {
   "cell_type": "code",
   "execution_count": 2,
   "metadata": {},
   "outputs": [],
   "source": [
    "#Шаг 1. Откройте файл с данными и изучите общую информацию\n",
    "#Путь к файлам:\n",
    "#/datasets/calls.csv\n",
    "#/datasets/internet.csv\n",
    "#/datasets/messages.csv\n",
    "#/datasets/tariffs.csv\n",
    "#/datasets/users.csv\n",
    "\n",
    "import pandas as pd\n",
    "calls = pd.read_csv('calls.csv')\n",
    "internet = pd.read_csv('internet.csv')\n",
    "messages = pd.read_csv('messages.csv')\n",
    "tariffs = pd.read_csv('tariffs.csv')\n",
    "users = pd.read_csv('users.csv')"
   ]
  },
  {
   "cell_type": "code",
   "execution_count": 3,
   "metadata": {},
   "outputs": [
    {
     "name": "stdout",
     "output_type": "stream",
     "text": [
      "Проверим все даты на наличае пропусков и несоответствие форматов:\n"
     ]
    }
   ],
   "source": [
    "print('Проверим все даты на наличае пропусков и несоответствие форматов:')"
   ]
  },
  {
   "cell_type": "code",
   "execution_count": 4,
   "metadata": {},
   "outputs": [
    {
     "name": "stdout",
     "output_type": "stream",
     "text": [
      "<class 'pandas.core.frame.DataFrame'>\n",
      "RangeIndex: 202607 entries, 0 to 202606\n",
      "Data columns (total 4 columns):\n",
      "id           202607 non-null object\n",
      "call_date    202607 non-null object\n",
      "duration     202607 non-null float64\n",
      "user_id      202607 non-null int64\n",
      "dtypes: float64(1), int64(1), object(2)\n",
      "memory usage: 6.2+ MB\n",
      "None\n",
      "       id   call_date  duration  user_id\n",
      "0  1000_0  2018-07-25      0.00     1000\n",
      "1  1000_1  2018-08-17      0.00     1000\n",
      "2  1000_2  2018-06-11      2.85     1000\n",
      "3  1000_3  2018-09-21     13.80     1000\n",
      "4  1000_4  2018-12-15      5.18     1000\n"
     ]
    }
   ],
   "source": [
    "print(calls.info())\n",
    "print(calls.head())"
   ]
  },
  {
   "cell_type": "code",
   "execution_count": 5,
   "metadata": {},
   "outputs": [
    {
     "name": "stdout",
     "output_type": "stream",
     "text": [
      "<class 'pandas.core.frame.DataFrame'>\n",
      "RangeIndex: 149396 entries, 0 to 149395\n",
      "Data columns (total 4 columns):\n",
      "id              149396 non-null object\n",
      "mb_used         149396 non-null float64\n",
      "session_date    149396 non-null object\n",
      "user_id         149396 non-null int64\n",
      "dtypes: float64(1), int64(1), object(2)\n",
      "memory usage: 4.6+ MB\n",
      "None\n",
      "       id  mb_used session_date  user_id\n",
      "0  1000_0   112.95   2018-11-25     1000\n",
      "1  1000_1  1052.81   2018-09-07     1000\n",
      "2  1000_2  1197.26   2018-06-25     1000\n",
      "3  1000_3   550.27   2018-08-22     1000\n",
      "4  1000_4   302.56   2018-09-24     1000\n"
     ]
    }
   ],
   "source": [
    "print(internet.info())\n",
    "print(internet.head())"
   ]
  },
  {
   "cell_type": "code",
   "execution_count": 6,
   "metadata": {},
   "outputs": [
    {
     "name": "stdout",
     "output_type": "stream",
     "text": [
      "<class 'pandas.core.frame.DataFrame'>\n",
      "RangeIndex: 123036 entries, 0 to 123035\n",
      "Data columns (total 3 columns):\n",
      "id              123036 non-null object\n",
      "message_date    123036 non-null object\n",
      "user_id         123036 non-null int64\n",
      "dtypes: int64(1), object(2)\n",
      "memory usage: 2.8+ MB\n",
      "None\n",
      "       id message_date  user_id\n",
      "0  1000_0   2018-06-27     1000\n",
      "1  1000_1   2018-10-08     1000\n",
      "2  1000_2   2018-08-04     1000\n",
      "3  1000_3   2018-06-16     1000\n",
      "4  1000_4   2018-12-05     1000\n"
     ]
    }
   ],
   "source": [
    "print(messages.info())\n",
    "print(messages.head())"
   ]
  },
  {
   "cell_type": "code",
   "execution_count": 7,
   "metadata": {},
   "outputs": [
    {
     "name": "stdout",
     "output_type": "stream",
     "text": [
      "<class 'pandas.core.frame.DataFrame'>\n",
      "RangeIndex: 2 entries, 0 to 1\n",
      "Data columns (total 8 columns):\n",
      "messages_included        2 non-null int64\n",
      "mg_per_month_included    2 non-null int64\n",
      "minutes_included         2 non-null int64\n",
      "rub_monthly_fee          2 non-null int64\n",
      "rub_per_gb               2 non-null int64\n",
      "rub_per_message          2 non-null int64\n",
      "rub_per_minute           2 non-null int64\n",
      "tariff_name              2 non-null object\n",
      "dtypes: int64(7), object(1)\n",
      "memory usage: 208.0+ bytes\n",
      "None\n",
      "   messages_included  mg_per_month_included  minutes_included  \\\n",
      "0                 50                  15360               500   \n",
      "1               1000                  30720              3000   \n",
      "\n",
      "   rub_monthly_fee  rub_per_gb  rub_per_message  rub_per_minute tariff_name  \n",
      "0              550         200                3               3       smart  \n",
      "1             1950         150                1               1       ultra  \n"
     ]
    }
   ],
   "source": [
    "print(tariffs.info())\n",
    "print(tariffs.head())\n",
    "tariffs['tariff_name'] = tariffs['tariff_name'].astype('str')"
   ]
  },
  {
   "cell_type": "code",
   "execution_count": 8,
   "metadata": {},
   "outputs": [
    {
     "name": "stdout",
     "output_type": "stream",
     "text": [
      "<class 'pandas.core.frame.DataFrame'>\n",
      "RangeIndex: 500 entries, 0 to 499\n",
      "Data columns (total 8 columns):\n",
      "user_id       500 non-null int64\n",
      "age           500 non-null int64\n",
      "churn_date    38 non-null object\n",
      "city          500 non-null object\n",
      "first_name    500 non-null object\n",
      "last_name     500 non-null object\n",
      "reg_date      500 non-null object\n",
      "tariff        500 non-null object\n",
      "dtypes: int64(2), object(6)\n",
      "memory usage: 31.3+ KB\n",
      "None\n",
      "   user_id  age churn_date         city first_name  last_name    reg_date  \\\n",
      "0     1000   52        NaN    Краснодар     Рафаил  Верещагин  2018-05-25   \n",
      "1     1001   41        NaN       Москва       Иван       Ежов  2018-11-01   \n",
      "2     1002   59        NaN  Стерлитамак    Евгений  Абрамович  2018-06-17   \n",
      "3     1003   23        NaN       Москва      Белла   Белякова  2018-08-17   \n",
      "4     1004   68        NaN  Новокузнецк    Татьяна   Авдеенко  2018-05-14   \n",
      "\n",
      "  tariff  \n",
      "0  ultra  \n",
      "1  smart  \n",
      "2  smart  \n",
      "3  ultra  \n",
      "4  ultra  \n"
     ]
    }
   ],
   "source": [
    "print(users.info())\n",
    "print(users.head())"
   ]
  },
  {
   "cell_type": "code",
   "execution_count": 9,
   "metadata": {},
   "outputs": [],
   "source": [
    "users['city'] = users['city']\n",
    "users['first_name'] = users['first_name']\n",
    "users['last_name'] = users['last_name']\n",
    "users['tariff'] = users['tariff']"
   ]
  },
  {
   "cell_type": "code",
   "execution_count": 10,
   "metadata": {},
   "outputs": [
    {
     "name": "stdout",
     "output_type": "stream",
     "text": [
      "Посмотрим данные где указаны длительность звонков и колличество мб за сессию\n"
     ]
    }
   ],
   "source": [
    "print('Посмотрим данные где указаны длительность звонков и колличество мб за сессию')"
   ]
  },
  {
   "cell_type": "code",
   "execution_count": 11,
   "metadata": {},
   "outputs": [
    {
     "data": {
      "text/plain": [
       "<matplotlib.axes._subplots.AxesSubplot at 0xe5886ffd0>"
      ]
     },
     "execution_count": 11,
     "metadata": {},
     "output_type": "execute_result"
    }
   ],
   "source": [
    "calls['duration'].hist(bins=100)"
   ]
  },
  {
   "cell_type": "code",
   "execution_count": 12,
   "metadata": {},
   "outputs": [
    {
     "data": {
      "text/plain": [
       "<matplotlib.axes._subplots.AxesSubplot at 0xe58e550f0>"
      ]
     },
     "execution_count": 12,
     "metadata": {},
     "output_type": "execute_result"
    },
    {
     "data": {
      "image/png": "[encoded data removed]",
      "text/plain": [
       "<Figure size 432x288 with 1 Axes>"
      ]
     },
     "metadata": {
      "needs_background": "light"
     },
     "output_type": "display_data"
    }
   ],
   "source": [
    "internet['mb_used'].hist(bins=100)"
   ]
  },
  {
   "cell_type": "code",
   "execution_count": 13,
   "metadata": {},
   "outputs": [
    {
     "name": "stdout",
     "output_type": "stream",
     "text": [
      "Звонки длительностью 0 минут никак не оплачиваются, поэтому их можно удалить\n",
      "Аналогично удалим нулевые значения в данных с мегабайтами\n"
     ]
    }
   ],
   "source": [
    "print(\"\"\"Звонки длительностью 0 минут никак не оплачиваются, поэтому их можно удалить\n",
    "Аналогично удалим нулевые значения в данных с мегабайтами\"\"\")"
   ]
  },
  {
   "cell_type": "code",
   "execution_count": 14,
   "metadata": {},
   "outputs": [
    {
     "data": {
      "text/plain": [
       "<matplotlib.axes._subplots.AxesSubplot at 0xe59bbbd30>"
      ]
     },
     "execution_count": 14,
     "metadata": {},
     "output_type": "execute_result"
    },
    {
     "data": {
      "image/png": "[encoded data removed]",
      "text/plain": [
       "<Figure size 432x288 with 1 Axes>"
      ]
     },
     "metadata": {
      "needs_background": "light"
     },
     "output_type": "display_data"
    }
   ],
   "source": [
    "calls = calls.query('duration > 0')\n",
    "calls['duration'].hist(bins=100)"
   ]
  },
  {
   "cell_type": "code",
   "execution_count": 15,
   "metadata": {},
   "outputs": [
    {
     "data": {
      "text/plain": [
       "<matplotlib.axes._subplots.AxesSubplot at 0xe595a3320>"
      ]
     },
     "execution_count": 15,
     "metadata": {},
     "output_type": "execute_result"
    },
    {
     "data": {
      "image/png": "[encoded data removed]",
      "text/plain": [
       "<Figure size 432x288 with 1 Axes>"
      ]
     },
     "metadata": {
      "needs_background": "light"
     },
     "output_type": "display_data"
    }
   ],
   "source": [
    "internet = internet.query('mb_used > 0')\n",
    "internet['mb_used'].hist(bins=100)"
   ]
  },
  {
   "cell_type": "code",
   "execution_count": 16,
   "metadata": {},
   "outputs": [
    {
     "name": "stdout",
     "output_type": "stream",
     "text": [
      "Красота, все данные впорядке!\n"
     ]
    }
   ],
   "source": [
    "print('Красота, все данные впорядке!')"
   ]
  },
  {
   "cell_type": "code",
   "execution_count": 17,
   "metadata": {},
   "outputs": [],
   "source": [
    "#Шаг 2. Подготовьте данные\n",
    "#Посчитайте для каждого пользователя:\n",
    "#количество сделанных звонков и израсходованных минут разговора по месяцам;\n",
    "#количество отправленных сообщений по месяцам;\n",
    "#объем израсходованного интернет-трафика по месяцам;\n",
    "#помесячную выручку с каждого пользователя (вычтите бесплатный лимит из суммарного количества звонков, \n",
    "#сообщений и интернет-трафика; остаток умножьте на значение из тарифного плана).                                           \n",
    "#Найдите и удалите выбросы. Поясните, по какому принципу вы их искали."
   ]
  },
  {
   "cell_type": "code",
   "execution_count": 18,
   "metadata": {},
   "outputs": [
    {
     "name": "stdout",
     "output_type": "stream",
     "text": [
      "Добавим месяца в таблицы calls, masseges, internet\n"
     ]
    }
   ],
   "source": [
    "print('Добавим месяца в таблицы calls, masseges, internet')"
   ]
  },
  {
   "cell_type": "code",
   "execution_count": 19,
   "metadata": {},
   "outputs": [],
   "source": [
    "calls['call_date'] = pd.to_datetime(calls['call_date'], format='%Y-%m-%d %H:%M:%S')\n",
    "messages['message_date'] = pd.to_datetime(messages['message_date'], format='%Y-%m-%d %H:%M:%S')\n",
    "internet['session_date'] = pd.to_datetime(internet['session_date'], format='%Y-%m-%d %H:%M:%S')"
   ]
  },
  {
   "cell_type": "code",
   "execution_count": 20,
   "metadata": {},
   "outputs": [],
   "source": [
    "calls['month'] = pd.DatetimeIndex(calls['call_date']).month\n",
    "messages['month'] = pd.DatetimeIndex(messages['message_date']).month\n",
    "internet['month'] = pd.DatetimeIndex(internet['session_date']).month"
   ]
  },
  {
   "cell_type": "code",
   "execution_count": 21,
   "metadata": {},
   "outputs": [
    {
     "name": "stdout",
     "output_type": "stream",
     "text": [
      "Посмотрим все ли нормально:\n"
     ]
    }
   ],
   "source": [
    "print('Посмотрим все ли нормально:')"
   ]
  },
  {
   "cell_type": "code",
   "execution_count": 22,
   "metadata": {},
   "outputs": [
    {
     "name": "stdout",
     "output_type": "stream",
     "text": [
      "Звонки\n",
      "       id  call_date  duration  user_id  month\n",
      "2  1000_2 2018-06-11      2.85     1000      6\n",
      "3  1000_3 2018-09-21     13.80     1000      9\n",
      "4  1000_4 2018-12-15      5.18     1000     12\n",
      "7  1000_7 2018-08-22     18.31     1000      8\n",
      "8  1000_8 2018-09-15     18.44     1000      9\n"
     ]
    }
   ],
   "source": [
    "print('Звонки')\n",
    "print(calls.head())"
   ]
  },
  {
   "cell_type": "code",
   "execution_count": 23,
   "metadata": {},
   "outputs": [
    {
     "name": "stdout",
     "output_type": "stream",
     "text": [
      "SMS\n",
      "       id message_date  user_id  month\n",
      "0  1000_0   2018-06-27     1000      6\n",
      "1  1000_1   2018-10-08     1000     10\n",
      "2  1000_2   2018-08-04     1000      8\n",
      "3  1000_3   2018-06-16     1000      6\n",
      "4  1000_4   2018-12-05     1000     12\n"
     ]
    }
   ],
   "source": [
    "print('SMS')\n",
    "print(messages.head())"
   ]
  },
  {
   "cell_type": "code",
   "execution_count": 24,
   "metadata": {},
   "outputs": [
    {
     "name": "stdout",
     "output_type": "stream",
     "text": [
      "Интернет\n",
      "       id  mb_used session_date  user_id  month\n",
      "0  1000_0   112.95   2018-11-25     1000     11\n",
      "1  1000_1  1052.81   2018-09-07     1000      9\n",
      "2  1000_2  1197.26   2018-06-25     1000      6\n",
      "3  1000_3   550.27   2018-08-22     1000      8\n",
      "4  1000_4   302.56   2018-09-24     1000      9\n"
     ]
    }
   ],
   "source": [
    "print('Интернет')\n",
    "print(internet.head())"
   ]
  },
  {
   "cell_type": "code",
   "execution_count": 25,
   "metadata": {},
   "outputs": [
    {
     "name": "stdout",
     "output_type": "stream",
     "text": [
      "Сгрупируем нужные нам данные по месяцам:\n"
     ]
    }
   ],
   "source": [
    "print('Сгрупируем нужные нам данные по месяцам:')\n",
    "data_pivot_calls = calls.pivot_table(index=['user_id', 'month'], values='duration', aggfunc=['sum', 'count'])\n",
    "data_pivot_masseges = messages.pivot_table(index=['user_id', 'month'], values='id', aggfunc=['count'])\n",
    "data_pivot_internet = internet.pivot_table(index=['user_id', 'month'], values='mb_used', aggfunc=['sum'])\n",
    "data_pivot_calls.columns = ['calls_sum', 'calls_count']\n",
    "data_pivot_masseges.columns = ['messages_count']\n",
    "data_pivot_internet.columns = ['mb_sum']"
   ]
  },
  {
   "cell_type": "code",
   "execution_count": 26,
   "metadata": {},
   "outputs": [],
   "source": [
    "users_month_pivot = data_pivot_internet.join([data_pivot_masseges, data_pivot_calls])"
   ]
  },
  {
   "cell_type": "code",
   "execution_count": 27,
   "metadata": {},
   "outputs": [
    {
     "name": "stdout",
     "output_type": "stream",
     "text": [
      "Пропуски в звонках и смс заменим на 0, тк люди ими просто не пользовались\n"
     ]
    }
   ],
   "source": [
    "users_month_pivot['id'] = users_month_pivot.index.get_level_values('user_id')\n",
    "users_month_pivot['month'] = users_month_pivot.index.get_level_values('month')\n",
    "users_month_pivot = users_month_pivot.reset_index(drop = True)\n",
    "users_month_pivot = users_month_pivot.fillna(0)\n",
    "print('Пропуски в звонках и смс заменим на 0, тк люди ими просто не пользовались')"
   ]
  },
  {
   "cell_type": "code",
   "execution_count": 28,
   "metadata": {},
   "outputs": [],
   "source": [
    "users.set_axis(['id', \n",
    "                'age', \n",
    "                'churn_date', \n",
    "                'city', \n",
    "                'first_name', \n",
    "                'last_name', \n",
    "                'reg_date', \n",
    "                'tariff_name'], \n",
    "               axis = 'columns', \n",
    "               inplace = True)"
   ]
  },
  {
   "cell_type": "code",
   "execution_count": 29,
   "metadata": {},
   "outputs": [],
   "source": [
    "users_month_pivot = users_month_pivot.merge(users, on='id')\n",
    "users_month_pivot = users_month_pivot.merge(tariffs, on='tariff_name')"
   ]
  },
  {
   "cell_type": "code",
   "execution_count": 30,
   "metadata": {},
   "outputs": [
    {
     "name": "stdout",
     "output_type": "stream",
     "text": [
      "Добавим столбец, где укажем сколько платил пользователь\n"
     ]
    }
   ],
   "source": [
    "print('Добавим столбец, где укажем сколько платил пользователь')\n",
    "import math\n",
    "\n",
    "def payed(data):\n",
    "    minuts_over = 0\n",
    "    gb_over = 0\n",
    "    message_over = 0\n",
    "    \n",
    "    tar_min = data['minutes_included']\n",
    "    if data['calls_sum'] > tar_min:\n",
    "        minuts_over = math.ceil(data['calls_sum'] - tar_min)\n",
    "    \n",
    "    tar_mess = data['messages_included']\n",
    "    if data['messages_count'] > tar_mess:\n",
    "        message_over = math.ceil(data['messages_count'] - tar_mess)\n",
    "        \n",
    "    tar_mb = data['mg_per_month_included']\n",
    "    if data['mb_sum'] > tar_mb:\n",
    "        gb_over = math.ceil((data['mb_sum'] - tar_mb) / 1024)\n",
    "        \n",
    "    summa = (data['rub_monthly_fee'] + \n",
    "             minuts_over * data['rub_per_minute'] + \n",
    "             message_over * data['rub_per_message'] + \n",
    "             gb_over * data['rub_per_gb'])\n",
    "    \n",
    "    return summa\n",
    "\n",
    "\n",
    "\n",
    "users_month_pivot['payed'] = users_month_pivot.apply(payed, axis=1)"
   ]
  },
  {
   "cell_type": "code",
   "execution_count": 31,
   "metadata": {},
   "outputs": [
    {
     "name": "stdout",
     "output_type": "stream",
     "text": [
      "Разобьем нашу таблицу по такрифам\n"
     ]
    }
   ],
   "source": [
    "users_month_pivot_ultra = users_month_pivot.query('tariff_name == \"ultra\"')\n",
    "users_month_pivot_smart = users_month_pivot.query('tariff_name == \"smart\"')\n",
    "print('Разобьем нашу таблицу по такрифам')"
   ]
  },
  {
   "cell_type": "code",
   "execution_count": 32,
   "metadata": {},
   "outputs": [
    {
     "name": "stdout",
     "output_type": "stream",
     "text": [
      "Посмотрим как люди пользуются тарифом smart\n"
     ]
    }
   ],
   "source": [
    "print('Посмотрим как люди пользуются тарифом smart')"
   ]
  },
  {
   "cell_type": "code",
   "execution_count": 33,
   "metadata": {},
   "outputs": [
    {
     "name": "stdout",
     "output_type": "stream",
     "text": [
      "Максимум за месяц человек заплатил 6614\n"
     ]
    },
    {
     "data": {
      "image/png": "[encoded data removed]",
      "text/plain": [
       "<Figure size 432x288 with 1 Axes>"
      ]
     },
     "metadata": {
      "needs_background": "light"
     },
     "output_type": "display_data"
    }
   ],
   "source": [
    "users_month_pivot_smart['payed'].hist(bins=100, range=(500, 4000))\n",
    "print('Максимум за месяц человек заплатил', users_month_pivot_smart['payed'].max())"
   ]
  },
  {
   "cell_type": "code",
   "execution_count": 34,
   "metadata": {},
   "outputs": [
    {
     "name": "stdout",
     "output_type": "stream",
     "text": [
      "Cуммы выше 4000 рублей уже крайне редки\n"
     ]
    }
   ],
   "source": [
    "print('Cуммы выше 4000 рублей уже крайне редки')\n",
    "users_month_pivot_smart = users_month_pivot_smart.query('payed <= 4000')"
   ]
  },
  {
   "cell_type": "code",
   "execution_count": 35,
   "metadata": {},
   "outputs": [
    {
     "name": "stdout",
     "output_type": "stream",
     "text": [
      "Посмотрим как люди пользуются тарифом ultra\n"
     ]
    }
   ],
   "source": [
    "print('Посмотрим как люди пользуются тарифом ultra')"
   ]
  },
  {
   "cell_type": "code",
   "execution_count": 36,
   "metadata": {},
   "outputs": [
    {
     "name": "stdout",
     "output_type": "stream",
     "text": [
      "Максимум за месяц человек заплатил 4800\n"
     ]
    },
    {
     "data": {
      "image/png": "[encoded data removed]",
      "text/plain": [
       "<Figure size 432x288 with 1 Axes>"
      ]
     },
     "metadata": {
      "needs_background": "light"
     },
     "output_type": "display_data"
    }
   ],
   "source": [
    "users_month_pivot_ultra['payed'].hist(bins=100, range=(1950, 4000))\n",
    "print('Максимум за месяц человек заплатил', users_month_pivot_ultra['payed'].max())"
   ]
  },
  {
   "cell_type": "code",
   "execution_count": 37,
   "metadata": {},
   "outputs": [
    {
     "name": "stdout",
     "output_type": "stream",
     "text": [
      "Cуммы выше 4000 рублей уже крайне редки\n"
     ]
    }
   ],
   "source": [
    "print('Cуммы выше 4000 рублей уже крайне редки')\n",
    "users_month_pivot_ultra = users_month_pivot_ultra.query('payed < 4000')"
   ]
  },
  {
   "cell_type": "code",
   "execution_count": 38,
   "metadata": {},
   "outputs": [],
   "source": [
    "#Шаг 3. Проанализируйте данные\n",
    "#Опишите поведение клиентов оператора, исходя из выборки. Сколько минут разговора, сколько сообщений и какой объём \n",
    "#интернет-трафика требуется пользователям каждого тарифа в месяц? Посчитайте среднее количество, дисперсию и стандартное \n",
    "#отклонение. Постройте гистограммы. Опишите распределения."
   ]
  },
  {
   "cell_type": "code",
   "execution_count": 39,
   "metadata": {},
   "outputs": [
    {
     "name": "stdout",
     "output_type": "stream",
     "text": [
      "Проанализируем клиентов тарифа смарт\n"
     ]
    }
   ],
   "source": [
    "print('Проанализируем клиентов тарифа смарт')"
   ]
  },
  {
   "cell_type": "code",
   "execution_count": 40,
   "metadata": {},
   "outputs": [
    {
     "name": "stdout",
     "output_type": "stream",
     "text": [
      "Среднее колличество мб в месяц: 16108.091886024426\n",
      "Медиана мб в месяц: 16461.940000000002\n",
      "Дисперсия мб в месяц: 32488678.086936217\n",
      "Стандартное отклонение мб в месяц: 5699.884041534197\n",
      "Датасет с отрицательной скошенностью\n"
     ]
    },
    {
     "data": {
      "image/png": "[encoded data removed]",
      "text/plain": [
       "<Figure size 432x288 with 1 Axes>"
      ]
     },
     "metadata": {
      "needs_background": "light"
     },
     "output_type": "display_data"
    }
   ],
   "source": [
    "import numpy as np\n",
    "\n",
    "users_month_pivot_smart['mb_sum'].hist(bins=100)\n",
    "print('Среднее колличество мб в месяц:', users_month_pivot_smart['mb_sum'].mean())\n",
    "print('Медиана мб в месяц:', users_month_pivot_smart['mb_sum'].median())\n",
    "print('Дисперсия мб в месяц:', np.var(users_month_pivot_smart['mb_sum']))\n",
    "print('Стандартное отклонение мб в месяц:', np.sqrt(np.var(users_month_pivot_smart['mb_sum'])))\n",
    "print('Датасет с отрицательной скошенностью')"
   ]
  },
  {
   "cell_type": "code",
   "execution_count": 41,
   "metadata": {},
   "outputs": [
    {
     "name": "stdout",
     "output_type": "stream",
     "text": [
      "Среднее колличество смс в месяц: 33.36725463591135\n",
      "Медиана смс в месяц: 28.0\n",
      "Дисперсия смс в месяц: 789.1866979808419\n",
      "Стандартное отклонение смс в месяц: 28.09246692586541\n",
      "Датасет с положительной скошенностью\n"
     ]
    },
    {
     "data": {
      "image/png": "[encoded data removed]",
      "text/plain": [
       "<Figure size 432x288 with 1 Axes>"
      ]
     },
     "metadata": {
      "needs_background": "light"
     },
     "output_type": "display_data"
    }
   ],
   "source": [
    "users_month_pivot_smart['messages_count'].hist(bins=100)\n",
    "print('Среднее колличество смс в месяц:', users_month_pivot_smart['messages_count'].mean())\n",
    "print('Медиана смс в месяц:', users_month_pivot_smart['messages_count'].median())\n",
    "print('Дисперсия смс в месяц:', np.var(users_month_pivot_smart['messages_count']))\n",
    "print('Стандартное отклонение смс в месяц:', np.sqrt(np.var(users_month_pivot_smart['messages_count'])))\n",
    "print('Датасет с положительной скошенностью')"
   ]
  },
  {
   "cell_type": "code",
   "execution_count": 42,
   "metadata": {},
   "outputs": [
    {
     "name": "stdout",
     "output_type": "stream",
     "text": [
      "Среднее колличество минут в месяц: 391.99549072817797\n",
      "Медиана минут в месяц: 396.3599999999999\n",
      "Дисперсия минут в месяц: 31158.180294501388\n",
      "Стандартное отклонение минут в месяц: 176.51679890169487\n",
      "Датасет с отрицательной скошенностью\n"
     ]
    },
    {
     "data": {
      "image/png": "[encoded data removed]",
      "text/plain": [
       "<Figure size 432x288 with 1 Axes>"
      ]
     },
     "metadata": {
      "needs_background": "light"
     },
     "output_type": "display_data"
    }
   ],
   "source": [
    "users_month_pivot_smart['calls_sum'].hist(bins=100)\n",
    "print('Среднее колличество минут в месяц:', users_month_pivot_smart['calls_sum'].mean())\n",
    "print('Медиана минут в месяц:', users_month_pivot_smart['calls_sum'].median())\n",
    "print('Дисперсия минут в месяц:', np.var(users_month_pivot_smart['calls_sum']))\n",
    "print('Стандартное отклонение минут в месяц:', np.sqrt(np.var(users_month_pivot_smart['calls_sum'])))\n",
    "print('Датасет с отрицательной скошенностью')"
   ]
  },
  {
   "cell_type": "code",
   "execution_count": 43,
   "metadata": {},
   "outputs": [
    {
     "name": "stdout",
     "output_type": "stream",
     "text": [
      "Среднее колличество звонков в месяц: 46.66711895070104\n",
      "Медиана звонков в месяц: 47.0\n",
      "Дисперсия звонков в месяц: 426.01492516857326\n",
      "Стандартное отклонение звонков в месяц: 20.64012900077355\n",
      "Датасет с отрицательной скошенностью\n"
     ]
    },
    {
     "data": {
      "image/png": "[encoded data removed]",
      "text/plain": [
       "<Figure size 432x288 with 1 Axes>"
      ]
     },
     "metadata": {
      "needs_background": "light"
     },
     "output_type": "display_data"
    }
   ],
   "source": [
    "users_month_pivot_smart['calls_count'].hist(bins=100)\n",
    "print('Среднее колличество звонков в месяц:', users_month_pivot_smart['calls_count'].mean())\n",
    "print('Медиана звонков в месяц:', users_month_pivot_smart['calls_count'].median())\n",
    "print('Дисперсия звонков в месяц:', np.var(users_month_pivot_smart['calls_count']))\n",
    "print('Стандартное отклонение звонков в месяц:', np.sqrt(np.var(users_month_pivot_smart['calls_count'])))\n",
    "print('Датасет с отрицательной скошенностью')"
   ]
  },
  {
   "cell_type": "code",
   "execution_count": 44,
   "metadata": {},
   "outputs": [
    {
     "name": "stdout",
     "output_type": "stream",
     "text": [
      "Проанализируем клиентов тарифа ультра\n"
     ]
    }
   ],
   "source": [
    "print('Проанализируем клиентов тарифа ультра')"
   ]
  },
  {
   "cell_type": "code",
   "execution_count": 45,
   "metadata": {},
   "outputs": [
    {
     "name": "stdout",
     "output_type": "stream",
     "text": [
      "Среднее колличество мб в месяц: 19576.493072164973\n",
      "Медиана мб в месяц: 19372.68\n",
      "Дисперсия мб в месяц: 95787558.02647468\n",
      "Стандартное отклонение мб в месяц: 9787.111832735676\n",
      "Датасет с положительной скошенностью\n"
     ]
    },
    {
     "data": {
      "image/png": "[encoded data removed]",
      "text/plain": [
       "<Figure size 432x288 with 1 Axes>"
      ]
     },
     "metadata": {
      "needs_background": "light"
     },
     "output_type": "display_data"
    }
   ],
   "source": [
    "users_month_pivot_ultra['mb_sum'].hist(bins=100)\n",
    "print('Среднее колличество мб в месяц:', users_month_pivot_ultra['mb_sum'].mean())\n",
    "print('Медиана мб в месяц:', users_month_pivot_ultra['mb_sum'].median())\n",
    "print('Дисперсия мб в месяц:', np.var(users_month_pivot_ultra['mb_sum']))\n",
    "print('Стандартное отклонение мб в месяц:', np.sqrt(np.var(users_month_pivot_ultra['mb_sum'])))\n",
    "print('Датасет с положительной скошенностью')"
   ]
  },
  {
   "cell_type": "code",
   "execution_count": 46,
   "metadata": {},
   "outputs": [
    {
     "name": "stdout",
     "output_type": "stream",
     "text": [
      "Среднее колличество sms в месяц: 49.53814432989691\n",
      "Медиана sms в месяц: 38.5\n",
      "Дисперсия sms в месяц: 2283.9021532575152\n",
      "Стандартное отклонение sms в месяц: 47.79018888074743\n",
      "Датасет с положительной скошенностью\n"
     ]
    },
    {
     "data": {
      "image/png": "[encoded data removed]",
      "text/plain": [
       "<Figure size 432x288 with 1 Axes>"
      ]
     },
     "metadata": {
      "needs_background": "light"
     },
     "output_type": "display_data"
    }
   ],
   "source": [
    "users_month_pivot_ultra['messages_count'].hist(bins=100)\n",
    "print('Среднее колличество sms в месяц:', users_month_pivot_ultra['messages_count'].mean())\n",
    "print('Медиана sms в месяц:', users_month_pivot_ultra['messages_count'].median())\n",
    "print('Дисперсия sms в месяц:', np.var(users_month_pivot_ultra['messages_count']))\n",
    "print('Стандартное отклонение sms в месяц:', np.sqrt(np.var(users_month_pivot_ultra['messages_count'])))\n",
    "print('Датасет с положительной скошенностью')"
   ]
  },
  {
   "cell_type": "code",
   "execution_count": 47,
   "metadata": {},
   "outputs": [
    {
     "name": "stdout",
     "output_type": "stream",
     "text": [
      "Среднее колличество минут в месяц: 499.9673402061864\n",
      "Медиана минут в месяц: 491.40000000000003\n",
      "Дисперсия минут в месяц: 89614.1324943686\n",
      "Стандартное отклонение минут в месяц: 299.3561966861027\n",
      "Датасет с положительной скошенностью\n"
     ]
    },
    {
     "data": {
      "image/png": "[encoded data removed]",
      "text/plain": [
       "<Figure size 432x288 with 1 Axes>"
      ]
     },
     "metadata": {
      "needs_background": "light"
     },
     "output_type": "display_data"
    }
   ],
   "source": [
    "users_month_pivot_ultra['calls_sum'].hist(bins=100)\n",
    "print('Среднее колличество минут в месяц:', users_month_pivot_ultra['calls_sum'].mean())\n",
    "print('Медиана минут в месяц:', users_month_pivot_ultra['calls_sum'].median())\n",
    "print('Дисперсия минут в месяц:', np.var(users_month_pivot_ultra['calls_sum']))\n",
    "print('Стандартное отклонение минут в месяц:', np.sqrt(np.var(users_month_pivot_ultra['calls_sum'])))\n",
    "print('Датасет с положительной скошенностью')"
   ]
  },
  {
   "cell_type": "code",
   "execution_count": 48,
   "metadata": {},
   "outputs": [
    {
     "name": "stdout",
     "output_type": "stream",
     "text": [
      "Среднее колличество звонков в месяц: 59.57113402061856\n",
      "Медиана звонков в месяц: 59.0\n",
      "Дисперсия звонков в месяц: 1262.2696822191504\n",
      "Стандартное отклонение звонков в месяц: 35.5284348405492\n",
      "Датасет с положительной скошенностью\n"
     ]
    },
    {
     "data": {
      "image/png": "[encoded data removed]",
      "text/plain": [
       "<Figure size 432x288 with 1 Axes>"
      ]
     },
     "metadata": {
      "needs_background": "light"
     },
     "output_type": "display_data"
    }
   ],
   "source": [
    "users_month_pivot_ultra['calls_count'].hist(bins=100)\n",
    "print('Среднее колличество звонков в месяц:', users_month_pivot_ultra['calls_count'].mean())\n",
    "print('Медиана звонков в месяц:', users_month_pivot_ultra['calls_count'].median())\n",
    "print('Дисперсия звонков в месяц:', np.var(users_month_pivot_ultra['calls_count']))\n",
    "print('Стандартное отклонение звонков в месяц:', np.sqrt(np.var(users_month_pivot_ultra['calls_count'])))\n",
    "print('Датасет с положительной скошенностью')"
   ]
  },
  {
   "cell_type": "code",
   "execution_count": 49,
   "metadata": {},
   "outputs": [
    {
     "name": "stdout",
     "output_type": "stream",
     "text": [
      "Для тарифа смарт кроме СМС все датасеты с отрицательной скошенностью\n",
      "Для тарифа ультра все датасеты с положительной скошенностью\n",
      "\n",
      "Из этого следует что люди которые берут смарт стараются выжать из тарифа максимум(что не касается СМС, тк есть месенжеры),\n",
      "Люди берущие тариф ультра напротив редко используют все ресурсы своего тарифа по СМС и минутам\n",
      "\n",
      "По этой причине люди, пользующиеся тарифом смарт, часто берут пакеты минут и ГБ сверх тарифа, в отличае от владельцев тарифа\n",
      "ультра, котрые в редких ситуациях прибегают к этому\n"
     ]
    }
   ],
   "source": [
    "print(\"\"\"Для тарифа смарт кроме СМС все датасеты с отрицательной скошенностью\n",
    "Для тарифа ультра все датасеты с положительной скошенностью\n",
    "\n",
    "Из этого следует что люди которые берут смарт стараются выжать из тарифа максимум(что не касается СМС, тк есть месенжеры),\n",
    "Люди берущие тариф ультра напротив редко используют все ресурсы своего тарифа по СМС и минутам\n",
    "\n",
    "По этой причине люди, пользующиеся тарифом смарт, часто берут пакеты минут и ГБ сверх тарифа, в отличае от владельцев тарифа\n",
    "ультра, котрые в редких ситуациях прибегают к этому\"\"\")"
   ]
  },
  {
   "cell_type": "code",
   "execution_count": 50,
   "metadata": {},
   "outputs": [],
   "source": [
    "#Шаг 4. Проверьте гипотезы\n",
    "#средняя выручка пользователей тарифов «Ультра» и «Смарт» различаются;\n",
    "#средняя выручка пользователей из Москвы отличается от выручки пользователей из других регионов;\n",
    "#Пороговое значение alpha задайте самостоятельно.\n",
    "#Поясните:\n",
    "#как вы формулировали нулевую и альтернативную гипотезы;\n",
    "#какой критерий использовали для проверки гипотез и почему."
   ]
  },
  {
   "cell_type": "code",
   "execution_count": 51,
   "metadata": {},
   "outputs": [
    {
     "name": "stdout",
     "output_type": "stream",
     "text": [
      "Проверим гипотизу что средняя сумма денег которую тратят люди на смарт и на ультра равны\n"
     ]
    }
   ],
   "source": [
    "print('Проверим гипотизу что средняя сумма денег которую тратят люди на смарт и на ультра равны')"
   ]
  },
  {
   "cell_type": "code",
   "execution_count": 52,
   "metadata": {},
   "outputs": [
    {
     "name": "stdout",
     "output_type": "stream",
     "text": [
      "p-значение: 2.5192709135077795e-208\n",
      "Отвергаем нулевую гипотезу\n"
     ]
    }
   ],
   "source": [
    "from scipy import stats as st\n",
    "\n",
    "alpha = 0.05\n",
    "\n",
    "results = st.ttest_ind(\n",
    "    users_month_pivot_ultra['payed'], \n",
    "    users_month_pivot_smart['payed'],\n",
    "    )\n",
    "\n",
    "print('p-значение:', results.pvalue)\n",
    "\n",
    "if (results.pvalue < alpha):\n",
    "    print(\"Отвергаем нулевую гипотезу\")\n",
    "else:\n",
    "    print(\"Не получилось отвергнуть нулевую гипотезу\")"
   ]
  },
  {
   "cell_type": "code",
   "execution_count": 53,
   "metadata": {},
   "outputs": [
    {
     "name": "stdout",
     "output_type": "stream",
     "text": [
      "Все таки люди, которые пользуются тарифом ультра переплачивают за услуги\n"
     ]
    }
   ],
   "source": [
    "print('Все таки люди, которые пользуются тарифом ультра переплачивают за услуги')"
   ]
  },
  {
   "cell_type": "code",
   "execution_count": 54,
   "metadata": {},
   "outputs": [
    {
     "name": "stdout",
     "output_type": "stream",
     "text": [
      "Проверим гипотизу что средняя сумма денег которую тратят люди в Москве и за ее пределами равны\n"
     ]
    }
   ],
   "source": [
    "print(\"Проверим гипотизу что средняя сумма денег которую тратят люди в Москве и за ее пределами равны\")"
   ]
  },
  {
   "cell_type": "code",
   "execution_count": 55,
   "metadata": {},
   "outputs": [],
   "source": [
    "users_moscow = users_month_pivot.query('city == \"Москва\"')\n",
    "users_not_moscow = users_month_pivot.query('city != \"Москва\"')"
   ]
  },
  {
   "cell_type": "code",
   "execution_count": 56,
   "metadata": {},
   "outputs": [
    {
     "name": "stdout",
     "output_type": "stream",
     "text": [
      "p-значение: 0.46410213271701706\n",
      "Не получилось отвергнуть нулевую гипотезу\n"
     ]
    }
   ],
   "source": [
    "alpha = 0.05\n",
    "\n",
    "results = st.ttest_ind(\n",
    "    users_moscow['payed'], \n",
    "    users_not_moscow['payed'],\n",
    "    )\n",
    "\n",
    "print('p-значение:', results.pvalue)\n",
    "\n",
    "if (results.pvalue < alpha):\n",
    "    print(\"Отвергаем нулевую гипотезу\")\n",
    "else:\n",
    "    print(\"Не получилось отвергнуть нулевую гипотезу\")"
   ]
  },
  {
   "cell_type": "code",
   "execution_count": 57,
   "metadata": {},
   "outputs": [
    {
     "name": "stdout",
     "output_type": "stream",
     "text": [
      "На самом деле без разницы откуда человек, в среднем все платят одинаково\n"
     ]
    }
   ],
   "source": [
    "print('На самом деле без разницы откуда человек, в среднем все платят одинаково')"
   ]
  },
  {
   "cell_type": "code",
   "execution_count": 58,
   "metadata": {},
   "outputs": [
    {
     "name": "stdout",
     "output_type": "stream",
     "text": [
      "Люди которые берут смарт стараются выжать из тарифа максимум(что не касается СМС, тк есть месенжеры),\n",
      "Люди берущие тариф ультра напротив редко используют все ресурсы своего тарифа по СМС и минутам\n",
      "\n",
      "По этой причине люди, пользующиеся тарифом смарт, часто берут пакеты минут и ГБ сверх тарифа, в отличае от владельцев тарифа\n",
      "ультра, котрые в редких ситуациях прибегают к этому\n",
      "\n",
      "Люди, которые пользуются тарифом ультра переплачивают за услуги, тк не используют их полностью\n",
      "\n",
      "Без разницы откуда из Москвы или из другого города человек, в среднем все платят одинаково\n"
     ]
    }
   ],
   "source": [
    "#Шаг 5. Напишите общий вывод\n",
    "print(\"\"\"Люди которые берут смарт стараются выжать из тарифа максимум(что не касается СМС, тк есть месенжеры),\n",
    "Люди берущие тариф ультра напротив редко используют все ресурсы своего тарифа по СМС и минутам\n",
    "\n",
    "По этой причине люди, пользующиеся тарифом смарт, часто берут пакеты минут и ГБ сверх тарифа, в отличае от владельцев тарифа\n",
    "ультра, котрые в редких ситуациях прибегают к этому\n",
    "\n",
    "Люди, которые пользуются тарифом ультра переплачивают за услуги, тк не используют их полностью\n",
    "\n",
    "Без разницы откуда из Москвы или из другого города человек, в среднем все платят одинаково\"\"\")"
   ]
  },
  {
   "cell_type": "code",
   "execution_count": 59,
   "metadata": {},
   "outputs": [],
   "source": [
    "#Описание данных\n",
    "\n",
    "#Таблица users (информация о пользователях):\n",
    "#user_id — уникальный идентификатор пользователя\n",
    "#first_name — имя пользователя\n",
    "#last_name — фамилия пользователя\n",
    "#age — возраст пользователя (годы)\n",
    "#reg_date — дата подключения тарифа (день, месяц, год)\n",
    "#churn_date — дата прекращения пользования тарифом (если значение пропущено, то тариф ещё действовал на момент выгрузки данных)\n",
    "#city — город проживания пользователя\n",
    "#tarif — название тарифного плана\n",
    "\n",
    "#Таблица calls (информация о звонках):\n",
    "#id — уникальный номер звонка\n",
    "#call_date — дата звонка\n",
    "#duration — длительность звонка в минутах\n",
    "#user_id — идентификатор пользователя, сделавшего звонок\n",
    "\n",
    "#Таблица messages (информация о сообщениях):\n",
    "#id — уникальный номер сообщения\n",
    "#message_date — дата сообщения\n",
    "#user_id — идентификатор пользователя, отправившего сообщение\n",
    "\n",
    "#Таблица internet (информация об интернет-сессиях):\n",
    "#id — уникальный номер сессии\n",
    "#mb_used — объём потраченного за сессию интернет-трафика (в мегабайтах)\n",
    "#session_date — дата интернет-сессии\n",
    "#user_id — идентификатор пользователя\n",
    "\n",
    "#Таблица tariffs (информация о тарифах):\n",
    "#tariff_name — название тарифа\n",
    "#rub_monthly_fee — ежемесячная абонентская плата в рублях\n",
    "#minutes_included — количество минут разговора в месяц, включённых в абонентскую плату\n",
    "#messages_included — количество сообщений в месяц, включённых в абонентскую плату\n",
    "#mb_per_month_included — объём интернет-трафика, включённого в абонентскую плату (в мегабайтах)\n",
    "#rub_per_minute — стоимость минуты разговора сверх тарифного пакета (например, если в тарифе 100 минут разговора в месяц, то со 101 минуты будет взиматься плата)\n",
    "#rub_per_message — стоимость отправки сообщения сверх тарифного пакета\n",
    "#rub_per_gb — стоимость дополнительного гигабайта интернет-трафика сверх тарифного пакета (1 гигабайт = 1024 мегабайта)"
   ]
  }
 ],
 "metadata": {
  "kernelspec": {
   "display_name": "Python 3",
   "language": "python",
   "name": "python3"
  },
  "language_info": {
   "codemirror_mode": {
    "name": "ipython",
    "version": 3
   },
   "file_extension": ".py",
   "mimetype": "text/x-python",
   "name": "python",
   "nbconvert_exporter": "python",
   "pygments_lexer": "ipython3",
   "version": "3.7.3"
  }
 },
 "nbformat": 4,
 "nbformat_minor": 2
}
